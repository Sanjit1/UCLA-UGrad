{
 "cells": [
  {
   "cell_type": "code",
   "execution_count": 1,
   "metadata": {},
   "outputs": [],
   "source": [
    "import math\n",
    "import random\n",
    "\n",
    "def fabs(x):\n",
    "    return abs(x)\n",
    "\n",
    "def sqrt(x):\n",
    "    return x**0.5\n",
    "\n",
    "def exp(x):\n",
    "    return math.e**x\n",
    "\n",
    "def pow(x, y):\n",
    "    return x**y\n",
    "\n",
    "def log(x, base):\n",
    "    return math.log(x, base)\n",
    "\n",
    "def fmod(x, y):\n",
    "    return x % y\n",
    "\n",
    "def ceil(x):\n",
    "    return math.ceil(x)\n",
    "\n",
    "def floor(x):\n",
    "    return math.floor(x)\n",
    "\n",
    "def trunc(x):\n",
    "    return math.trunc(x)\n",
    "\n",
    "# define constants\n",
    "pi = math.pi\n",
    "e = math.e\n",
    "\n",
    "def radians(x):\n",
    "    return x * pi / 180\n",
    "\n",
    "def degrees(x):\n",
    "    return x * 180 / pi\n",
    "\n",
    "def sin(x):\n",
    "    return math.sin(x)\n",
    "\n",
    "def cos(x):\n",
    "    return math.cos(x)\n",
    "\n",
    "def tan(x):\n",
    "    return math.tan(x)\n",
    "\n",
    "def asin(x):\n",
    "    return math.asin(x)\n",
    "\n",
    "def acos(x):\n",
    "    return math.acos(x)\n",
    "\n",
    "def atan(x):\n",
    "    return math.atan(x)\n",
    "\n",
    "def atan2(y, x):\n",
    "    return math.atan2(y, x)\n",
    "\n",
    "def random():\n",
    "    return random.random()\n",
    "\n",
    "def uniform(a, b):\n",
    "    return random.uniform(a, b)\n",
    "\n",
    "def randint(a, b):\n",
    "    return random.randint(a, b)\n",
    "\n",
    "def choice(seq):\n",
    "    return random.choice(seq)\n",
    "\n",
    "def randrange(start, stop=None, step=1):\n",
    "    return random.randrange(start, stop, step)\n",
    "\n",
    "def seed(x=None):\n",
    "    random.seed(x)\n",
    "\n"
   ]
  },
  {
   "cell_type": "code",
   "execution_count": 2,
   "metadata": {},
   "outputs": [],
   "source": [
    "from inbuilt import *\n",
    "from dsp import *\n",
    "import numpy as np # To verify some things work"
   ]
  },
  {
   "cell_type": "code",
   "execution_count": 3,
   "metadata": {},
   "outputs": [],
   "source": [
    "# Simple convolution\n",
    "def convolve(x, y):\n",
    "    z = []\n",
    "    for i in range(len(x) + len(y) - 1):\n",
    "        z.append(0)\n",
    "    for i in range(len(x)):\n",
    "        for j in range(len(y)):\n",
    "            z[i + j] += x[i] * y[j]\n",
    "    return z"
   ]
  },
  {
   "cell_type": "code",
   "execution_count": 4,
   "metadata": {},
   "outputs": [
    {
     "name": "stdout",
     "output_type": "stream",
     "text": [
      "Numpy Convolution:  [ 0  0  1  4 10 20 25 24 16]\n",
      "DFT Convolution:  [0, 0, 1, 4, 10, 20, 25, 24, 16]\n"
     ]
    }
   ],
   "source": [
    "# Lets convolve two signals: [0, 1, 2, 3, 4] and [0, 1, 2, 3, 4] first using the dsp.py and then using numpy.convolve\n",
    "x_signal = np.array([0, 1, 2, 3, 4])\n",
    "y_signal = np.array([0, 1, 2, 3, 4])\n",
    "print(\"Numpy Convolution: \", np.convolve(x_signal, y_signal))\n",
    "print(\"DFT Convolution: \", convolve(x_signal, y_signal))"
   ]
  },
  {
   "cell_type": "code",
   "execution_count": 33,
   "metadata": {},
   "outputs": [],
   "source": [
    "# round does not work for complex numbers so we will have to define our own function\n",
    "def rounds(x, n):\n",
    "    if isinstance(x, complex):\n",
    "        return complex(round(x.real, n), round(x.imag, n))\n",
    "    else:\n",
    "        return round(x)\n",
    "    \n",
    "# We are going to make a special cexp function that will return the complex exponential of a complex number\n",
    "def cexp(x):\n",
    "    return complex(exp(x.real) * cos(x.imag), exp(x.real) * sin(x.imag))  \n",
    "\n",
    "# Simple FFT\n",
    "def FFT(f, N=None):\n",
    "    if N is None:\n",
    "        N = len(f)\n",
    "    # We will use a recursive implementation of the FFT and return the coefficients and the number of operations\n",
    "    operations = 0\n",
    "    if N == 1:\n",
    "        return f, operations\n",
    "    else:\n",
    "        # We do not know if the length of f is a power of 2, so we will pad it with zeros\n",
    "        # We will pad it with zeros until it is a power of 2\n",
    "        while N & (N - 1) != 0:\n",
    "            f.append(0)\n",
    "            N += 1\n",
    "        # We will split the coefficients into even and odd\n",
    "        Y_even, operations_even = FFT(f[::2], N//2)\n",
    "        Y_odd, operations_odd = FFT(f[1::2], N//2)\n",
    "        operations = operations_even + operations_odd\n",
    "        # factor = exp(-2j * pi * arange(N) / N)\n",
    "        # this gives us an error since we cannot multiply a complex number by an array since we are not using numpy\n",
    "        # so instead we will have to loop through the array and multiply each element by the complex number\n",
    "        factor = []\n",
    "        for i in range(N):\n",
    "            factor.append(cexp(-2j * pi * i / N))\n",
    "        # Y = concatenate([Y_even + factor[:N//2] * Y_odd, Y_even + factor[N//2:] * Y_odd])\n",
    "        # this gives us an error since we cannot multiply a complex number by an array since we are not using numpy\n",
    "        # so instead we will have to loop through the array and multiply each element by the complex number\n",
    "        Y = []\n",
    "        # Lets also make sure that we are rounding to 3 decimal places\n",
    "        for i in range(N//2):\n",
    "            Y.append(rounds(Y_even[i] + factor[i] * Y_odd[i], 5))\n",
    "        for i in range(N//2):\n",
    "            Y.append(rounds(Y_even[i] + factor[i + N//2] * Y_odd[i], 5))\n",
    "        operations += N\n",
    "        return Y, operations\n",
    "    \n",
    "# Inverse FFT\n",
    "def IFFT(f, N=None):\n",
    "    if N is None:\n",
    "        N = len(f)\n",
    "    # We will use a recursive implementation of the FFT and return the coefficients and the number of operations\n",
    "    operations = 0\n",
    "    if N == 1:\n",
    "        return f, operations\n",
    "    else:\n",
    "        # We do not know if the length of f is a power of 2, so we will pad it with zeros\n",
    "        # We will pad it with zeros until it is a power of 2\n",
    "        while N & (N - 1) != 0:\n",
    "            f.append(0)\n",
    "            N += 1\n",
    "        # We will split the coefficients into even and odd\n",
    "        Y_even, operations_even = IFFT(f[::2], N//2)\n",
    "        Y_odd, operations_odd = IFFT(f[1::2], N//2)\n",
    "        operations = operations_even + operations_odd\n",
    "        # factor = exp(-2j * pi * arange(N) / N)\n",
    "        # this gives us an error since we cannot multiply a complex number by an array since we are not using numpy\n",
    "        # so instead we will have to loop through the array and multiply each element by the complex number\n",
    "        factor = []\n",
    "        for i in range(N):\n",
    "            factor.append(cexp(2j * pi * i / N))\n",
    "        # Y = concatenate([Y_even + factor[:N//2] * Y_odd, Y_even + factor[N//2:] * Y_odd])\n",
    "        # this gives us an error since we cannot multiply a complex number by an array since we are not using numpy\n",
    "        # so instead we will have to loop through the array and multiply each element by the complex number\n",
    "        Y = []\n",
    "        # Lets also make sure that we are rounding to 3 decimal places\n",
    "        for i in range(N//2):\n",
    "            Y.append(rounds(Y_even[i] + factor[i] * Y_odd[i], 5))\n",
    "        for i in range(N//2):\n",
    "            Y.append(rounds(Y_even[i] + factor[i + N//2] * Y_odd[i], 5))\n",
    "        operations += N\n",
    "        return Y, operations\n",
    "    \n",
    "# DFT\n",
    "def DFT(f, N=None):\n",
    "    if N is None:\n",
    "        N = len(f)\n",
    "    result = []\n",
    "    for k in range(N):\n",
    "        sum = 0\n",
    "        for n in range(len(f)):\n",
    "            sum += complex(f[n]) * cexp(-1j * 2 * pi * k * n / N)\n",
    "        result.append(rounds(sum, 5))\n",
    "    return result\n",
    "\n",
    "# IDFT\n",
    "def IDFT(f, N=None):\n",
    "    if N is None:\n",
    "        N = len(f)\n",
    "    result = []\n",
    "    for k in range(N):\n",
    "        sum = 0\n",
    "        for n in range(len(f)):\n",
    "            sum += complex(f[n]) * cexp(1j * 2 * pi * k * n / N)\n",
    "        result.append(rounds(sum / N, 5))\n",
    "    return result\n",
    "\n",
    "# Simple convolution\n",
    "def convolve(x, y):\n",
    "    z = []\n",
    "    for i in range(len(x) + len(y) - 1):\n",
    "        z.append(0)\n",
    "    for i in range(len(x)):\n",
    "        for j in range(len(y)):\n",
    "            z[i + j] += x[i] * y[j]\n",
    "    return z\n"
   ]
  },
  {
   "cell_type": "code",
   "execution_count": 40,
   "metadata": {},
   "outputs": [
    {
     "name": "stdout",
     "output_type": "stream",
     "text": [
      "Numpy Convolution:  [1 4 4]\n"
     ]
    }
   ],
   "source": [
    "# np convolve [1,2] with itself\n",
    "x_signal = np.array([1, 2])\n",
    "y_signal = np.array([1, 2])\n",
    "print(\"Numpy Convolution: \", np.convolve(x_signal, y_signal))"
   ]
  },
  {
   "cell_type": "code",
   "execution_count": 34,
   "metadata": {},
   "outputs": [
    {
     "name": "stdout",
     "output_type": "stream",
     "text": [
      "FFT:  ([(11.94+0j), (-1.65+2.19j), (-2.44-0j), (-1.65-2.19j)], 8)\n",
      "Numpy FFT:  [11.94+0.j   -1.65+2.19j -2.44+0.j   -1.65-2.19j]\n"
     ]
    }
   ],
   "source": [
    "# Test the FFT\n",
    "x = [1.55, 2.5, 3.2, 4.69]\n",
    "print(\"FFT: \", FFT(x, len(x)))\n",
    "# Numpy FFT\n",
    "print(\"Numpy FFT: \", np.fft.fft(x))"
   ]
  },
  {
   "cell_type": "code",
   "execution_count": 39,
   "metadata": {},
   "outputs": [
    {
     "name": "stdout",
     "output_type": "stream",
     "text": [
      "Numpy IFFT:  [1.55+0.j 2.5 +0.j 3.2 +0.j 4.69+0.j]\n",
      "IFFT:  [(6.2+0j), (10+0j), (12.8-0j), (18.76-0j)]\n",
      "IDFT:  [(1.55+0j), (2.5+0j), (3.2+0j), (4.69-0j)]\n"
     ]
    }
   ],
   "source": [
    "DFT(x, len(x))\n",
    "# take the inverse FFT using Numpy\n",
    "print(\"Numpy IFFT: \", np.fft.ifft(np.fft.fft(x)))\n",
    "print(\"IFFT: \", (IFFT(DFT(x, len(x)), len(x))[0]))\n",
    "print(\"IDFT: \", IDFT(DFT(x, len(x)), len(x)))"
   ]
  },
  {
   "cell_type": "code",
   "execution_count": null,
   "metadata": {},
   "outputs": [],
   "source": []
  }
 ],
 "metadata": {
  "kernelspec": {
   "display_name": "Python 3",
   "language": "python",
   "name": "python3"
  },
  "language_info": {
   "codemirror_mode": {
    "name": "ipython",
    "version": 3
   },
   "file_extension": ".py",
   "mimetype": "text/x-python",
   "name": "python",
   "nbconvert_exporter": "python",
   "pygments_lexer": "ipython3",
   "version": "3.10.10"
  },
  "orig_nbformat": 4
 },
 "nbformat": 4,
 "nbformat_minor": 2
}
