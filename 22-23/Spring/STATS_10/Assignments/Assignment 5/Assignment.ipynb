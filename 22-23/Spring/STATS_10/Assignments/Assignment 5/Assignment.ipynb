{
 "cells": [
  {
   "attachments": {},
   "cell_type": "markdown",
   "metadata": {},
   "source": [
    "## STATS 10 Assignment 5\n"
   ]
  },
  {
   "attachments": {},
   "cell_type": "markdown",
   "metadata": {},
   "source": [
    "## Part I"
   ]
  },
  {
   "attachments": {},
   "cell_type": "markdown",
   "metadata": {},
   "source": [
    "### Exercise 1\n"
   ]
  },
  {
   "cell_type": "code",
   "execution_count": 17,
   "metadata": {
    "vscode": {
     "languageId": "r"
    }
   },
   "outputs": [
    {
     "data": {
      "text/html": [
       "<table class=\"dataframe\">\n",
       "<caption>A data.frame: 6 × 6</caption>\n",
       "<thead>\n",
       "\t<tr><th></th><th scope=col>ID</th><th scope=col>Latitude</th><th scope=col>Longitude</th><th scope=col>Arsenic</th><th scope=col>Sulfur</th><th scope=col>New_hlth_issue</th></tr>\n",
       "\t<tr><th></th><th scope=col>&lt;int&gt;</th><th scope=col>&lt;dbl&gt;</th><th scope=col>&lt;dbl&gt;</th><th scope=col>&lt;dbl&gt;</th><th scope=col>&lt;dbl&gt;</th><th scope=col>&lt;chr&gt;</th></tr>\n",
       "</thead>\n",
       "<tbody>\n",
       "\t<tr><th scope=row>1</th><td>1</td><td>41.09414</td><td>-85.60974</td><td>0</td><td>  0</td><td>N</td></tr>\n",
       "\t<tr><th scope=row>2</th><td>2</td><td>41.09054</td><td>-85.70344</td><td>0</td><td>130</td><td>N</td></tr>\n",
       "\t<tr><th scope=row>3</th><td>3</td><td>41.08601</td><td>-85.71996</td><td>4</td><td>170</td><td>N</td></tr>\n",
       "\t<tr><th scope=row>4</th><td>4</td><td>41.08100</td><td>-85.75415</td><td>0</td><td>  0</td><td>Y</td></tr>\n",
       "\t<tr><th scope=row>5</th><td>5</td><td>41.07435</td><td>-85.70043</td><td>0</td><td>  0</td><td>N</td></tr>\n",
       "\t<tr><th scope=row>6</th><td>6</td><td>41.07399</td><td>-85.71788</td><td>0</td><td>  0</td><td>N</td></tr>\n",
       "</tbody>\n",
       "</table>\n"
      ],
      "text/latex": [
       "A data.frame: 6 × 6\n",
       "\\begin{tabular}{r|llllll}\n",
       "  & ID & Latitude & Longitude & Arsenic & Sulfur & New\\_hlth\\_issue\\\\\n",
       "  & <int> & <dbl> & <dbl> & <dbl> & <dbl> & <chr>\\\\\n",
       "\\hline\n",
       "\t1 & 1 & 41.09414 & -85.60974 & 0 &   0 & N\\\\\n",
       "\t2 & 2 & 41.09054 & -85.70344 & 0 & 130 & N\\\\\n",
       "\t3 & 3 & 41.08601 & -85.71996 & 4 & 170 & N\\\\\n",
       "\t4 & 4 & 41.08100 & -85.75415 & 0 &   0 & Y\\\\\n",
       "\t5 & 5 & 41.07435 & -85.70043 & 0 &   0 & N\\\\\n",
       "\t6 & 6 & 41.07399 & -85.71788 & 0 &   0 & N\\\\\n",
       "\\end{tabular}\n"
      ],
      "text/markdown": [
       "\n",
       "A data.frame: 6 × 6\n",
       "\n",
       "| <!--/--> | ID &lt;int&gt; | Latitude &lt;dbl&gt; | Longitude &lt;dbl&gt; | Arsenic &lt;dbl&gt; | Sulfur &lt;dbl&gt; | New_hlth_issue &lt;chr&gt; |\n",
       "|---|---|---|---|---|---|---|\n",
       "| 1 | 1 | 41.09414 | -85.60974 | 0 |   0 | N |\n",
       "| 2 | 2 | 41.09054 | -85.70344 | 0 | 130 | N |\n",
       "| 3 | 3 | 41.08601 | -85.71996 | 4 | 170 | N |\n",
       "| 4 | 4 | 41.08100 | -85.75415 | 0 |   0 | Y |\n",
       "| 5 | 5 | 41.07435 | -85.70043 | 0 |   0 | N |\n",
       "| 6 | 6 | 41.07399 | -85.71788 | 0 |   0 | N |\n",
       "\n"
      ],
      "text/plain": [
       "  ID Latitude Longitude Arsenic Sulfur New_hlth_issue\n",
       "1 1  41.09414 -85.60974 0         0    N             \n",
       "2 2  41.09054 -85.70344 0       130    N             \n",
       "3 3  41.08601 -85.71996 4       170    N             \n",
       "4 4  41.08100 -85.75415 0         0    Y             \n",
       "5 5  41.07435 -85.70043 0         0    N             \n",
       "6 6  41.07399 -85.71788 0         0    N             "
      ]
     },
     "metadata": {},
     "output_type": "display_data"
    },
    {
     "data": {
      "text/html": [
       "<style>\n",
       ".list-inline {list-style: none; margin:0; padding: 0}\n",
       ".list-inline>li {display: inline-block}\n",
       ".list-inline>li:not(:last-child)::after {content: \"\\00b7\"; padding: 0 .5ex}\n",
       "</style>\n",
       "<ol class=list-inline><li>541</li><li>6</li></ol>\n"
      ],
      "text/latex": [
       "\\begin{enumerate*}\n",
       "\\item 541\n",
       "\\item 6\n",
       "\\end{enumerate*}\n"
      ],
      "text/markdown": [
       "1. 541\n",
       "2. 6\n",
       "\n",
       "\n"
      ],
      "text/plain": [
       "[1] 541   6"
      ]
     },
     "metadata": {},
     "output_type": "display_data"
    },
    {
     "data": {
      "text/html": [
       "<table class=\"dataframe\">\n",
       "<caption>A data.frame: 6 × 6</caption>\n",
       "<thead>\n",
       "\t<tr><th></th><th scope=col>ID</th><th scope=col>Latitude</th><th scope=col>Longitude</th><th scope=col>Arsenic</th><th scope=col>Sulfur</th><th scope=col>New_hlth_issue</th></tr>\n",
       "\t<tr><th></th><th scope=col>&lt;int&gt;</th><th scope=col>&lt;dbl&gt;</th><th scope=col>&lt;dbl&gt;</th><th scope=col>&lt;dbl&gt;</th><th scope=col>&lt;dbl&gt;</th><th scope=col>&lt;chr&gt;</th></tr>\n",
       "</thead>\n",
       "<tbody>\n",
       "\t<tr><th scope=row>147</th><td>147</td><td>41.03971</td><td>-85.72783</td><td>2</td><td>100</td><td>N</td></tr>\n",
       "\t<tr><th scope=row>49</th><td> 49</td><td>41.06113</td><td>-85.65553</td><td>0</td><td>  0</td><td>Y</td></tr>\n",
       "\t<tr><th scope=row>210</th><td>210</td><td>41.03178</td><td>-85.64253</td><td>0</td><td>  0</td><td>N</td></tr>\n",
       "\t<tr><th scope=row>356</th><td>356</td><td>41.01178</td><td>-85.66516</td><td>0</td><td>  0</td><td>N</td></tr>\n",
       "\t<tr><th scope=row>425</th><td>425</td><td>41.00096</td><td>-85.72899</td><td>0</td><td>  0</td><td>N</td></tr>\n",
       "\t<tr><th scope=row>239</th><td>239</td><td>41.02772</td><td>-85.72901</td><td>0</td><td>  0</td><td>N</td></tr>\n",
       "</tbody>\n",
       "</table>\n"
      ],
      "text/latex": [
       "A data.frame: 6 × 6\n",
       "\\begin{tabular}{r|llllll}\n",
       "  & ID & Latitude & Longitude & Arsenic & Sulfur & New\\_hlth\\_issue\\\\\n",
       "  & <int> & <dbl> & <dbl> & <dbl> & <dbl> & <chr>\\\\\n",
       "\\hline\n",
       "\t147 & 147 & 41.03971 & -85.72783 & 2 & 100 & N\\\\\n",
       "\t49 &  49 & 41.06113 & -85.65553 & 0 &   0 & Y\\\\\n",
       "\t210 & 210 & 41.03178 & -85.64253 & 0 &   0 & N\\\\\n",
       "\t356 & 356 & 41.01178 & -85.66516 & 0 &   0 & N\\\\\n",
       "\t425 & 425 & 41.00096 & -85.72899 & 0 &   0 & N\\\\\n",
       "\t239 & 239 & 41.02772 & -85.72901 & 0 &   0 & N\\\\\n",
       "\\end{tabular}\n"
      ],
      "text/markdown": [
       "\n",
       "A data.frame: 6 × 6\n",
       "\n",
       "| <!--/--> | ID &lt;int&gt; | Latitude &lt;dbl&gt; | Longitude &lt;dbl&gt; | Arsenic &lt;dbl&gt; | Sulfur &lt;dbl&gt; | New_hlth_issue &lt;chr&gt; |\n",
       "|---|---|---|---|---|---|---|\n",
       "| 147 | 147 | 41.03971 | -85.72783 | 2 | 100 | N |\n",
       "| 49 |  49 | 41.06113 | -85.65553 | 0 |   0 | Y |\n",
       "| 210 | 210 | 41.03178 | -85.64253 | 0 |   0 | N |\n",
       "| 356 | 356 | 41.01178 | -85.66516 | 0 |   0 | N |\n",
       "| 425 | 425 | 41.00096 | -85.72899 | 0 |   0 | N |\n",
       "| 239 | 239 | 41.02772 | -85.72901 | 0 |   0 | N |\n",
       "\n"
      ],
      "text/plain": [
       "    ID  Latitude Longitude Arsenic Sulfur New_hlth_issue\n",
       "147 147 41.03971 -85.72783 2       100    N             \n",
       "49   49 41.06113 -85.65553 0         0    Y             \n",
       "210 210 41.03178 -85.64253 0         0    N             \n",
       "356 356 41.01178 -85.66516 0         0    N             \n",
       "425 425 41.00096 -85.72899 0         0    N             \n",
       "239 239 41.02772 -85.72901 0         0    N             "
      ]
     },
     "metadata": {},
     "output_type": "display_data"
    },
    {
     "data": {
      "text/html": [
       "0.85"
      ],
      "text/latex": [
       "0.85"
      ],
      "text/markdown": [
       "0.85"
      ],
      "text/plain": [
       "[1] 0.85"
      ]
     },
     "metadata": {},
     "output_type": "display_data"
    },
    {
     "data": {
      "text/html": [
       "0.2"
      ],
      "text/latex": [
       "0.2"
      ],
      "text/markdown": [
       "0.2"
      ],
      "text/plain": [
       "[1] 0.2"
      ]
     },
     "metadata": {},
     "output_type": "display_data"
    },
    {
     "name": "stdout",
     "output_type": "stream",
     "text": [
      "[1] \"Mean arsenic level in the sample: x̄\"\n",
      "[1] \"Proportion of health issues in the sample: p̂\"\n",
      "[1] \"90% confidence interval: ( 0.0798768752965989 ,  0.320123124703401 )\"\n",
      "[1] \"95% confidence interval: ( 0.0568644685026274 ,  0.343135531497373 )\"\n",
      "[1] \"99% confidence interval: ( 0.0118880248217927 ,  0.388111975178207 )\"\n",
      "[1] \"100% confidence interval: ( 0 ,  1 )\"\n"
     ]
    },
    {
     "data": {
      "text/html": [
       "0.292051756007394"
      ],
      "text/latex": [
       "0.292051756007394"
      ],
      "text/markdown": [
       "0.292051756007394"
      ],
      "text/plain": [
       "[1] 0.2920518"
      ]
     },
     "metadata": {},
     "output_type": "display_data"
    },
    {
     "data": {
      "image/png": "[encoded data removed]",
      "text/plain": [
       "Plot with title \"Histogram of pawnee$Arsenic\""
      ]
     },
     "metadata": {
      "image/png": {
       "height": 420,
       "width": 420
      }
     },
     "output_type": "display_data"
    }
   ],
   "source": [
    "pawnee <- read.csv(\"pawnee.csv\")\n",
    "# a. Use the head() function to print out the first few rows of this data. Then, use the dim() function to print out the number of rows and columns of this data frame.\n",
    "head(pawnee)\n",
    "dim(pawnee)\n",
    "\n",
    "# b. Set the seed to 1337 and take a simple random sample of size 30 from the entire pawnee data frame. Save the random sample as a separate R object, and print the first few lines to make sure you saved it correctly.\n",
    "set.seed(1337)\n",
    "pawnee_sample <- sample(1:nrow(pawnee), 30)\n",
    "pawnee_sample <- pawnee[pawnee_sample,]\n",
    "head(pawnee_sample)\n",
    "\n",
    "# c. Report the mean arsenic level from the sample you took in b. Also report the proportion of households experiencing a major health issue from your sample\n",
    "mean(pawnee_sample$Arsenic)\n",
    "# New_hlth_issue is Y/N so lets make  1/0\n",
    "pawnee_sample$New_hlth_issue <- as.numeric(pawnee_sample$New_hlth_issue == \"Y\")\n",
    "pawnee$New_hlth_issue <- as.numeric(pawnee$New_hlth_issue == \"Y\")\n",
    "mean(pawnee_sample$New_hlth_issue)\n",
    "\n",
    "# d. What symbol from lecture would we use for the mean arsenic level in the sample? What symbol would we use for the proportion of health issues in the sample?\n",
    "print(\"Mean arsenic level in the sample: x̄\")\n",
    "print(\"Proportion of health issues in the sample: p̂\")\n",
    "\n",
    "# e. Now, let’s generate confidence intervals for our sample proportion using the sample results. Produce 90%, 95%, and 99% confidence intervals for the true population proportion. Consult your lecture materials if you are unsure how to do this. You can use R and/or a calculator for this question, but please include code or calculations to show your work\n",
    "# 90% confidence interval\n",
    "p_hat <- mean(pawnee_sample$New_hlth_issue)\n",
    "n <- length(pawnee_sample$New_hlth_issue)\n",
    "z_star <- qnorm(0.95)\n",
    "lower <- p_hat - z_star * sqrt(p_hat * (1 - p_hat) / n)\n",
    "upper <- p_hat + z_star * sqrt(p_hat * (1 - p_hat) / n)\n",
    "print(paste(\"90% confidence interval: (\", lower, \", \", upper, \")\"))\n",
    "\n",
    "# 95% confidence interval\n",
    "z_star <- qnorm(0.975)\n",
    "lower <- p_hat - z_star * sqrt(p_hat * (1 - p_hat) / n)\n",
    "upper <- p_hat + z_star * sqrt(p_hat * (1 - p_hat) / n)\n",
    "print(paste(\"95% confidence interval: (\", lower, \", \", upper, \")\"))\n",
    "\n",
    "# 99% confidence interval\n",
    "z_star <- qnorm(0.995)\n",
    "lower <- p_hat - z_star * sqrt(p_hat * (1 - p_hat) / n)\n",
    "upper <- p_hat + z_star * sqrt(p_hat * (1 - p_hat) / n)\n",
    "print(paste(\"99% confidence interval: (\", lower, \", \", upper, \")\"))\n",
    "\n",
    "# f. What would be the bounds of a 100% confidence interval for the population proportion?\n",
    "print(paste(\"100% confidence interval: (\", 0, \", \", 1, \")\"))\n",
    "\n",
    "# g. Report the proportion of all households which experienced a new major health issue.\n",
    "mean(pawnee$New_hlth_issue)\n",
    "\n",
    "# h. Create a plot that visualizes the distribution of arsenic levels for the houses in Pawnee. Hint: we can consider the arsenic levels continuous data\n",
    "hist(pawnee$Arsenic)\n",
    "\n",
    "\n"
   ]
  },
  {
   "attachments": {},
   "cell_type": "markdown",
   "metadata": {},
   "source": [
    "### Exercise 2\n"
   ]
  },
  {
   "cell_type": "code",
   "execution_count": 27,
   "metadata": {
    "vscode": {
     "languageId": "r"
    }
   },
   "outputs": [
    {
     "name": "stdout",
     "output_type": "stream",
     "text": [
      "[1] \"H0: p = 0.1\"\n",
      "[1] \"H1: p > 0.1\"\n"
     ]
    },
    {
     "data": {
      "text/html": [
       "0.044362292051756"
      ],
      "text/latex": [
       "0.044362292051756"
      ],
      "text/markdown": [
       "0.044362292051756"
      ],
      "text/plain": [
       "[1] 0.04436229"
      ]
     },
     "metadata": {},
     "output_type": "display_data"
    },
    {
     "data": {
      "text/html": [
       "0.00885227699183897"
      ],
      "text/latex": [
       "0.00885227699183897"
      ],
      "text/markdown": [
       "0.00885227699183897"
      ],
      "text/plain": [
       "[1] 0.008852277"
      ]
     },
     "metadata": {},
     "output_type": "display_data"
    },
    {
     "data": {
      "text/html": [
       "-6.28512957734345"
      ],
      "text/latex": [
       "-6.28512957734345"
      ],
      "text/markdown": [
       "-6.28512957734345"
      ],
      "text/plain": [
       "[1] -6.28513"
      ]
     },
     "metadata": {},
     "output_type": "display_data"
    },
    {
     "data": {
      "text/html": [
       "0.99999999983621"
      ],
      "text/latex": [
       "0.99999999983621"
      ],
      "text/markdown": [
       "0.99999999983621"
      ],
      "text/plain": [
       "[1] 1"
      ]
     },
     "metadata": {},
     "output_type": "display_data"
    },
    {
     "name": "stdout",
     "output_type": "stream",
     "text": [
      "[1] \"We should tell the EPA that we reject the null hypothesis, and that the proportion of dangerous lead levels in Flint is greater than 10%.\"\n"
     ]
    },
    {
     "data": {
      "text/plain": [
       "\n",
       "\t1-sample proportions test with continuity correction\n",
       "\n",
       "data:  sum(flint$Pb >= 15) out of nrow(flint), null probability 0.1\n",
       "X-squared = 17.995, df = 1, p-value = 1\n",
       "alternative hypothesis: true p is greater than 0.1\n",
       "95 percent confidence interval:\n",
       " 0.03115233 1.00000000\n",
       "sample estimates:\n",
       "         p \n",
       "0.04436229 \n"
      ]
     },
     "metadata": {},
     "output_type": "display_data"
    }
   ],
   "source": [
    "flint <- read.csv(\"flint.csv\")\n",
    "# a. We will conduct a hypothesis test for this research question. What are the null and alternative hypotheses? Is this a one-sided or a two-sided test?\n",
    "print(paste(\"H0: p = 0.1\"))\n",
    "print(paste(\"H1: p > 0.1\"))\n",
    "# b. Calculate the sample proportion and sample standard deviation of the sample proportion of dangerous lead levels.\n",
    "p_hat <- mean(flint$Pb >= 15)\n",
    "p_hat\n",
    "sd_p_hat <- sqrt(p_hat * (1 - p_hat) / nrow(flint))\n",
    "sd_p_hat\n",
    "# c. Now, calculate the SE of sample proportions, and the z-value for this test. Consult the above instructions and/or the lecture materials for guidance.\n",
    "se_p_hat <- sqrt(p_hat * (1 - p_hat) / nrow(flint))\n",
    "# d. Using the z-statistic in (c), calculate the p-value associated with this test. You may use R’s pnorm() function or a normal table, but please show all work.\n",
    "z <- (p_hat - 0.1) / se_p_hat\n",
    "z\n",
    "# e. Using a significance level of 0.05, do you reject the null hypothesis?\n",
    "pnorm(z, lower.tail = FALSE)\n",
    "# f. If greater than 10% of households in Flint contain dangerous lead levels, the EPA requires remediation action to be taken. Based on your results, what should you tell the EPA?\n",
    "print(paste(\"We should tell the EPA that we reject the null hypothesis, and that the proportion of dangerous lead levels in Flint is greater than 10%.\"))\n",
    "# g. Another way to run this test is to use the prop.test() function using the mosaic package. You will need to know your sample size, and the number of “successes” in the sample. Use this function to conduct the same hypothesis test in (a)-(d) and obtain a p-value from the test. # Using the same significance level of 0.05, do your results change? An example of the prop.test() function is shown in the two lines below: # ## We flipped 100 coins and 60 were heads. Is the long-run proportion of heads greater than 0.5? # prop.test(x = 60, n = 100, p = 0.5, alt = \"greater\")\n",
    "prop.test(x = sum(flint$Pb >= 15), n = nrow(flint), p = 0.1, alt = \"greater\")\n"
   ]
  },
  {
   "attachments": {},
   "cell_type": "markdown",
   "metadata": {},
   "source": [
    "### Exercise 3\n"
   ]
  },
  {
   "cell_type": "code",
   "execution_count": 26,
   "metadata": {
    "vscode": {
     "languageId": "r"
    }
   },
   "outputs": [
    {
     "name": "stdout",
     "output_type": "stream",
     "text": [
      "[1] \"This is a two-sided test.\"\n"
     ]
    },
    {
     "data": {
      "text/html": [
       "1.0118584585031"
      ],
      "text/latex": [
       "1.0118584585031"
      ],
      "text/markdown": [
       "1.0118584585031"
      ],
      "text/plain": [
       "[1] 1.011858"
      ]
     },
     "metadata": {},
     "output_type": "display_data"
    },
    {
     "data": {
      "text/html": [
       "0.155802867067193"
      ],
      "text/latex": [
       "0.155802867067193"
      ],
      "text/markdown": [
       "0.155802867067193"
      ],
      "text/plain": [
       "[1] 0.1558029"
      ]
     },
     "metadata": {},
     "output_type": "display_data"
    },
    {
     "name": "stdout",
     "output_type": "stream",
     "text": [
      "[1] \"We reject the null hypothesis. The proportion of dangerous lead levels in the North region differs from the proportion of dangerous lead levels in the South region, p value = 0.155802867067193.\"\n"
     ]
    },
    {
     "data": {
      "text/plain": [
       "\n",
       "\t2-sample test for equality of proportions with continuity correction\n",
       "\n",
       "data:  c(sum(flint$Pb[flint$Region == \"North\"] >= 15), sum(flint$Pb[flint$Region == \"South\"] >= 15)) out of c(n_north, n_south)\n",
       "X-squared = 0.64468, df = 1, p-value = 0.422\n",
       "alternative hypothesis: two.sided\n",
       "95 percent confidence interval:\n",
       " -0.02069890  0.05655002\n",
       "sample estimates:\n",
       "    prop 1     prop 2 \n",
       "0.05363985 0.03571429 \n"
      ]
     },
     "metadata": {},
     "output_type": "display_data"
    },
    {
     "name": "stdout",
     "output_type": "stream",
     "text": [
      "[1] \"We reject the null hypothesis. The proportion of dangerous lead levels in the North region differs from the proportion of dangerous lead levels in the South region, p value = 0.422020239558505.\"\n"
     ]
    }
   ],
   "source": [
    "# a. We will conduct a hypothesis test for this research question. What are the null and alternative hypotheses? Is this a one-sided or a two-sided test?\n",
    "print(\"This is a two-sided test.\")\n",
    "# b. Using guidance from lecture, calculate every value you will need to produce a z-statistic for this test. Then, calculate the z-statistic. Please show all work.\n",
    "p_hat_north <- mean(flint$Pb[flint$Region == \"North\"] >= 15)\n",
    "p_hat_south <- mean(flint$Pb[flint$Region == \"South\"] >= 15)\n",
    "n_north <- sum(flint$Region == \"North\")\n",
    "n_south <- sum(flint$Region == \"South\")\n",
    "p_hat <- (p_hat_north * n_north + p_hat_south * n_south) / (n_north + n_south)\n",
    "se_p_hat <- sqrt(p_hat * (1 - p_hat) * (1 / n_north + 1 / n_south))\n",
    "z <- (p_hat_north - p_hat_south) / se_p_hat\n",
    "z\n",
    "# c. Using the z-statistic in (b), calculate the p-value associated with this test. You may use R’s pnorm() function or a normal table, but please show all work.\n",
    "pnorm(z, lower.tail = FALSE)\n",
    "# d. Using a significance level of 0.05, do you reject the null hypothesis? Interpret this result in the context of our research question. Hint: is this a two-sided test?\n",
    "print(paste0(\"We cannot reject the null hypothesis. The proportion of dangerous lead levels in the North region does not differ from the proportion of dangerous lead levels in the South region, p value = \", pnorm(z, lower.tail = FALSE), \".\"))\n",
    "# e. Another way to run this test is to use the prop.test() function. Use the function to conduct the\n",
    "# same hypothesis test in and obtain a p-value from the test, again using a significance level of\n",
    "# 0.05. Do your results change? A sample of the prop.test() function for two proportions is\n",
    "# shown in the two lines below:\n",
    "prop.test(x = c(sum(flint$Pb[flint$Region == \"North\"] >= 15), sum(flint$Pb[flint$Region == \"South\"] >= 15)), n = c(n_north, n_south), alt = \"two.sided\")\n",
    "print(paste0(\"We cannot reject the null hypothesis. The proportion of dangerous lead levels in the North region does not differ from the proportion of dangerous lead levels in the South region, p value = \", prop.test(x = c(sum(flint$Pb[flint$Region == \"North\"] >= 15), sum(flint$Pb[flint$Region == \"South\"] >= 15)), n = c(n_north, n_south), alt = \"two.sided\")$p.value, \".\"))\n"
   ]
  },
  {
   "attachments": {},
   "cell_type": "markdown",
   "metadata": {},
   "source": [
    "## Part 2"
   ]
  },
  {
   "attachments": {},
   "cell_type": "markdown",
   "metadata": {},
   "source": [
    "### Exercise 1"
   ]
  },
  {
   "cell_type": "code",
   "execution_count": 33,
   "metadata": {
    "vscode": {
     "languageId": "r"
    }
   },
   "outputs": [
    {
     "data": {
      "text/html": [
       "0.504827586206897"
      ],
      "text/latex": [
       "0.504827586206897"
      ],
      "text/markdown": [
       "0.504827586206897"
      ],
      "text/plain": [
       "[1] 0.5048276"
      ]
     },
     "metadata": {},
     "output_type": "display_data"
    },
    {
     "data": {
      "text/html": [
       "0.00830416089159487"
      ],
      "text/latex": [
       "0.00830416089159487"
      ],
      "text/markdown": [
       "0.00830416089159487"
      ],
      "text/plain": [
       "[1] 0.008304161"
      ]
     },
     "metadata": {},
     "output_type": "display_data"
    },
    {
     "data": {
      "text/html": [
       "2.98977663499103"
      ],
      "text/latex": [
       "2.98977663499103"
      ],
      "text/markdown": [
       "2.98977663499103"
      ],
      "text/plain": [
       "[1] 2.989777"
      ]
     },
     "metadata": {},
     "output_type": "display_data"
    },
    {
     "data": {
      "text/html": [
       "0.00139590759258058"
      ],
      "text/latex": [
       "0.00139590759258058"
      ],
      "text/markdown": [
       "0.00139590759258058"
      ],
      "text/plain": [
       "[1] 0.001395908"
      ]
     },
     "metadata": {},
     "output_type": "display_data"
    },
    {
     "name": "stdout",
     "output_type": "stream",
     "text": [
      "[1] \"We reject the null hypothesis. The probability that the proportion of site users who get their world news on this site has not changed since 2013 is 0.00139590759258058.\"\n"
     ]
    },
    {
     "data": {
      "text/html": [
       "0.504827586206897"
      ],
      "text/latex": [
       "0.504827586206897"
      ],
      "text/markdown": [
       "0.504827586206897"
      ],
      "text/plain": [
       "[1] 0.5048276"
      ]
     },
     "metadata": {},
     "output_type": "display_data"
    },
    {
     "data": {
      "text/html": [
       "0.00830416089159487"
      ],
      "text/latex": [
       "0.00830416089159487"
      ],
      "text/markdown": [
       "0.00830416089159487"
      ],
      "text/plain": [
       "[1] 0.008304161"
      ]
     },
     "metadata": {},
     "output_type": "display_data"
    },
    {
     "data": {
      "text/html": [
       "1.95996398454005"
      ],
      "text/latex": [
       "1.95996398454005"
      ],
      "text/markdown": [
       "1.95996398454005"
      ],
      "text/plain": [
       "[1] 1.959964"
      ]
     },
     "metadata": {},
     "output_type": "display_data"
    },
    {
     "data": {
      "text/html": [
       "<style>\n",
       ".list-inline {list-style: none; margin:0; padding: 0}\n",
       ".list-inline>li {display: inline-block}\n",
       ".list-inline>li:not(:last-child)::after {content: \"\\00b7\"; padding: 0 .5ex}\n",
       "</style>\n",
       "<ol class=list-inline><li>0.488551729937545</li><li>0.521103442476249</li></ol>\n"
      ],
      "text/latex": [
       "\\begin{enumerate*}\n",
       "\\item 0.488551729937545\n",
       "\\item 0.521103442476249\n",
       "\\end{enumerate*}\n"
      ],
      "text/markdown": [
       "1. 0.488551729937545\n",
       "2. 0.521103442476249\n",
       "\n",
       "\n"
      ],
      "text/plain": [
       "[1] 0.4885517 0.5211034"
      ]
     },
     "metadata": {},
     "output_type": "display_data"
    },
    {
     "name": "stdout",
     "output_type": "stream",
     "text": [
      "[1] \"We are 95% confident that the proportion of all of the site users who get most of their news about world events on the site in 2018 is between 0.488551729937545 and 0.521103442476249.\"\n"
     ]
    }
   ],
   "source": [
    "# a. Does this sample give evidence that the proportion of site users who get their world news on\n",
    "# this site has changed since 2013? Carry out a hypothesis test and use a 0.05 significance\n",
    "# level.\n",
    "p_hat <- 1830 / 3625\n",
    "p_hat\n",
    "se_p_hat <- sqrt(p_hat * (1 - p_hat) / 3625)\n",
    "se_p_hat\n",
    "z <- (p_hat - 0.48) / se_p_hat\n",
    "z\n",
    "pnorm(z, lower.tail = FALSE)\n",
    "print(paste0(\"We reject the null hypothesis. The probability that the proportion of site users who get their world news on this site has not changed since 2013 is \", pnorm(z, lower.tail = FALSE), \".\"))\n",
    "# b. After conducting the hypothesis test, a further question one might ask is what proportion of\n",
    "# all of the site users get most of their news about world events on the site in 2018. Use the\n",
    "# sample data to construct a 95% confidence interval for the population proportion. How does\n",
    "# your confidence interval support your hypothesis test conclusion?\n",
    "p_hat <- 1830 / 3625\n",
    "p_hat\n",
    "se_p_hat <- sqrt(p_hat * (1 - p_hat) / 3625)\n",
    "se_p_hat\n",
    "z <- qnorm(0.975)\n",
    "z\n",
    "p_hat + c(-1, 1) * z * se_p_hat\n",
    "print(paste0(\"We are 95% confident that the proportion of all of the site users who get most of their news about world events on the site in 2018 is between \", p_hat + c(-1, 1)[1] * z * se_p_hat, \" and \", p_hat + c(-1, 1)[2] * z * se_p_hat, \".\"))\n"
   ]
  },
  {
   "attachments": {},
   "cell_type": "markdown",
   "metadata": {},
   "source": [
    "### Exercise 2\n",
    "According to the Brookings Institution, 50% of eligible 18- to 29-year-old voters voted in the\n",
    "2016 election. Suppose we were interested in whether the proportion of voters in this age group\n",
    "who voted in the 2018 election was higher. Describe the two types of errors one might make in\n",
    "conducting this hypothesis test.\n",
    "\n",
    "The two types of errors are Type I and Type II errors. Type I error is when we reject the null hypothesis when it is true. Type II error is when we fail to reject the null hypothesis when it is false.\n",
    "In this case, a Type I error would be to conclude that the proportion of voters in this age group whp voted in 2018 was higher than in 2016, when in fact it was not.\n",
    " On the other hand a type II error would be to conclude that the proportion of voters in this age group who voted in 2018 was not higher than in 2016, when it was."
   ]
  },
  {
   "attachments": {},
   "cell_type": "markdown",
   "metadata": {},
   "source": [
    "### Exercise 3"
   ]
  },
  {
   "cell_type": "code",
   "execution_count": 35,
   "metadata": {
    "vscode": {
     "languageId": "r"
    }
   },
   "outputs": [
    {
     "data": {
      "text/html": [
       "0.672574927489526"
      ],
      "text/latex": [
       "0.672574927489526"
      ],
      "text/markdown": [
       "0.672574927489526"
      ],
      "text/plain": [
       "[1] 0.6725749"
      ]
     },
     "metadata": {},
     "output_type": "display_data"
    },
    {
     "data": {
      "text/html": [
       "0.645917001338688"
      ],
      "text/latex": [
       "0.645917001338688"
      ],
      "text/markdown": [
       "0.645917001338688"
      ],
      "text/plain": [
       "[1] 0.645917"
      ]
     },
     "metadata": {},
     "output_type": "display_data"
    },
    {
     "data": {
      "text/html": [
       "0.659497619438516"
      ],
      "text/latex": [
       "0.659497619438516"
      ],
      "text/markdown": [
       "0.659497619438516"
      ],
      "text/plain": [
       "[1] 0.6594976"
      ]
     },
     "metadata": {},
     "output_type": "display_data"
    },
    {
     "data": {
      "text/html": [
       "0.0121459029819332"
      ],
      "text/latex": [
       "0.0121459029819332"
      ],
      "text/markdown": [
       "0.0121459029819332"
      ],
      "text/plain": [
       "[1] 0.0121459"
      ]
     },
     "metadata": {},
     "output_type": "display_data"
    },
    {
     "data": {
      "text/html": [
       "2.19480809211891"
      ],
      "text/latex": [
       "2.19480809211891"
      ],
      "text/markdown": [
       "2.19480809211891"
      ],
      "text/plain": [
       "[1] 2.194808"
      ]
     },
     "metadata": {},
     "output_type": "display_data"
    },
    {
     "data": {
      "text/html": [
       "0.0140886833882929"
      ],
      "text/latex": [
       "0.0140886833882929"
      ],
      "text/markdown": [
       "0.0140886833882929"
      ],
      "text/plain": [
       "[1] 0.01408868"
      ]
     },
     "metadata": {},
     "output_type": "display_data"
    },
    {
     "name": "stdout",
     "output_type": "stream",
     "text": [
      "[1] \"We reject the null hypothesis. The probability that the proportion of college students who believe that freedom of religion is secure or very secure in this country has not changed from 2016 is 0.0140886833882929.\"\n"
     ]
    },
    {
     "data": {
      "text/html": [
       "0.672574927489526"
      ],
      "text/latex": [
       "0.672574927489526"
      ],
      "text/markdown": [
       "0.672574927489526"
      ],
      "text/plain": [
       "[1] 0.6725749"
      ]
     },
     "metadata": {},
     "output_type": "display_data"
    },
    {
     "data": {
      "text/html": [
       "0.645917001338688"
      ],
      "text/latex": [
       "0.645917001338688"
      ],
      "text/markdown": [
       "0.645917001338688"
      ],
      "text/plain": [
       "[1] 0.645917"
      ]
     },
     "metadata": {},
     "output_type": "display_data"
    },
    {
     "data": {
      "text/html": [
       "0.659497619438516"
      ],
      "text/latex": [
       "0.659497619438516"
      ],
      "text/markdown": [
       "0.659497619438516"
      ],
      "text/plain": [
       "[1] 0.6594976"
      ]
     },
     "metadata": {},
     "output_type": "display_data"
    },
    {
     "data": {
      "text/html": [
       "0.0121459029819332"
      ],
      "text/latex": [
       "0.0121459029819332"
      ],
      "text/markdown": [
       "0.0121459029819332"
      ],
      "text/plain": [
       "[1] 0.0121459"
      ]
     },
     "metadata": {},
     "output_type": "display_data"
    },
    {
     "data": {
      "text/html": [
       "1.95996398454005"
      ],
      "text/latex": [
       "1.95996398454005"
      ],
      "text/markdown": [
       "1.95996398454005"
      ],
      "text/plain": [
       "[1] 1.959964"
      ]
     },
     "metadata": {},
     "output_type": "display_data"
    },
    {
     "data": {
      "text/html": [
       "<style>\n",
       ".list-inline {list-style: none; margin:0; padding: 0}\n",
       ".list-inline>li {display: inline-block}\n",
       ".list-inline>li:not(:last-child)::after {content: \"\\00b7\"; padding: 0 .5ex}\n",
       "</style>\n",
       "<ol class=list-inline><li>0.00285239374653144</li><li>0.0504634585551449</li></ol>\n"
      ],
      "text/latex": [
       "\\begin{enumerate*}\n",
       "\\item 0.00285239374653144\n",
       "\\item 0.0504634585551449\n",
       "\\end{enumerate*}\n"
      ],
      "text/markdown": [
       "1. 0.00285239374653144\n",
       "2. 0.0504634585551449\n",
       "\n",
       "\n"
      ],
      "text/plain": [
       "[1] 0.002852394 0.050463459"
      ]
     },
     "metadata": {},
     "output_type": "display_data"
    },
    {
     "name": "stdout",
     "output_type": "stream",
     "text": [
      "[1] \"We are 95% confident that the difference in the proportions of college students in 2016 and 2017 who felt freedom of religion was secure or very secure is between 0.00285239374653144 and 0.0504634585551449.\"\n"
     ]
    }
   ],
   "source": [
    "# a. Determine whether the proportion of college students who believe that freedom of religion is secure or very secure in this country has changed from 2016. Use a significance level of 0.05.\n",
    "p_hat_2016 <- 2087 / 3103\n",
    "p_hat_2016\n",
    "p_hat_2017 <- 1930 / 2988\n",
    "p_hat_2017\n",
    "p_hat <- (2087 + 1930) / (3103 + 2988)\n",
    "p_hat\n",
    "se_p_hat <- sqrt(p_hat * (1 - p_hat) * (1 / 3103 + 1 / 2988))\n",
    "se_p_hat\n",
    "z <- (p_hat_2016 - p_hat_2017) / se_p_hat\n",
    "z\n",
    "pnorm(z, lower.tail = FALSE)\n",
    "print(paste0(\"We reject the null hypothesis. The probability that the proportion of college students who believe that freedom of religion is secure or very secure in this country has not changed from 2016 is \", pnorm(z, lower.tail = FALSE), \".\"))\n",
    "\n",
    "# b. Use the sample data to construct a 95% confidence interval for the difference in the proportions of college students in 2016 and 2017 who felt freedom of religion was secure or very secure. How does your confidence interval support your hypothesis test conclusion?\n",
    "p_hat_2016 <- 2087 / 3103\n",
    "p_hat_2016\n",
    "p_hat_2017 <- 1930 / 2988\n",
    "p_hat_2017\n",
    "p_hat <- (2087 + 1930) / (3103 + 2988)\n",
    "p_hat\n",
    "se_p_hat <- sqrt(p_hat * (1 - p_hat) * (1 / 3103 + 1 / 2988))\n",
    "se_p_hat\n",
    "z <- qnorm(0.975)\n",
    "z\n",
    "p_hat_2016 - p_hat_2017 + c(-1, 1) * z * se_p_hat\n",
    "print(paste0(\"We are 95% confident that the difference in the proportions of college students in 2016 and 2017 who felt freedom of religion was secure or very secure is between \", p_hat_2016 - p_hat_2017 + c(-1, 1)[1] * z * se_p_hat, \" and \", p_hat_2016 - p_hat_2017 + c(-1, 1)[2] * z * se_p_hat, \".\"))\n"
   ]
  }
 ],
 "metadata": {
  "kernelspec": {
   "display_name": "R",
   "language": "R",
   "name": "ir"
  },
  "language_info": {
   "codemirror_mode": "r",
   "file_extension": ".r",
   "mimetype": "text/x-r-source",
   "name": "R",
   "pygments_lexer": "r",
   "version": "4.2.3"
  },
  "orig_nbformat": 4
 },
 "nbformat": 4,
 "nbformat_minor": 2
}
