{
 "cells": [
  {
   "attachments": {},
   "cell_type": "markdown",
   "metadata": {},
   "source": [
    "# STATS 10 Assignment 3\n",
    "Please submit both parts of the assignment in one single PDF file. You can use any PDF editor\n",
    "software to merge the two parts into one file. Please make sure that the questions are in the correct\n",
    "order and clearly labeled, and that the answers are legible and easy to read.\n",
    "To submit your assignment, upload the PDF file under the designated assignment page on the\n",
    "course website before the deadline specified. Email or hard copy submissions are not accepted."
   ]
  },
  {
   "attachments": {},
   "cell_type": "markdown",
   "metadata": {},
   "source": [
    "## Part I\n",
    "Include both the R commands and their corresponding outputs, results, or answers for all\n",
    "exercise questions in Part I."
   ]
  },
  {
   "attachments": {},
   "cell_type": "markdown",
   "metadata": {},
   "source": [
    "### Exercise 1\n",
    "We will be working with some soil mining data and are interested in looking at some of the\n",
    "relationships between metal concentrations (in ppm). Download the data ‘soil_complete.txt’\n",
    "from the course website and read it into R. When you read in the data, name your object “soil”"
   ]
  },
  {
   "cell_type": "code",
   "execution_count": 16,
   "metadata": {
    "vscode": {
     "languageId": "r"
    }
   },
   "outputs": [
    {
     "data": {
      "text/plain": [
       "\n",
       "Call:\n",
       "lm(formula = lead ~ zinc)\n",
       "\n",
       "Residuals:\n",
       "    Min      1Q  Median      3Q     Max \n",
       "-80.455 -12.570  -1.834  15.946 101.651 \n",
       "\n",
       "Coefficients:\n",
       "             Estimate Std. Error t value Pr(>|t|)    \n",
       "(Intercept) 16.582928   4.410443    3.76 0.000244 ***\n",
       "zinc         0.291335   0.007415   39.29  < 2e-16 ***\n",
       "---\n",
       "Signif. codes:  0 '***' 0.001 '**' 0.01 '*' 0.05 '.' 0.1 ' ' 1\n",
       "\n",
       "Residual standard error: 33.37 on 149 degrees of freedom\n",
       "Multiple R-squared:  0.912,\tAdjusted R-squared:  0.9114 \n",
       "F-statistic:  1544 on 1 and 149 DF,  p-value: < 2.2e-16\n"
      ]
     },
     "metadata": {},
     "output_type": "display_data"
    },
    {
     "data": {
      "image/png": "[encoded data removed]",
      "text/plain": [
       "plot without title"
      ]
     },
     "metadata": {
      "image/png": {
       "height": 420,
       "width": 420
      }
     },
     "output_type": "display_data"
    },
    {
     "data": {
      "image/png": "[encoded data removed]",
      "text/plain": [
       "plot without title"
      ]
     },
     "metadata": {
      "image/png": {
       "height": 420,
       "width": 420
      }
     },
     "output_type": "display_data"
    }
   ],
   "source": [
    "# set wd\n",
    "setwd(\"C:/Users/sanji/Documents/School/Classes/Stats 10/Assignment 3\")\n",
    "# read in data from soil_complete.txt\n",
    "soil <- read.table(\"soil_complete.txt\", header = TRUE)\n",
    "# a. Run a linear regression of lead against zinc concentrations (treat lead as the response variable). Use the summary function just like in the example above and paste the output into your report.\n",
    "lead <- soil$lead\n",
    "zinc <- soil$zinc\n",
    "lead.zinc <- lm(lead ~ zinc)\n",
    "summary(lead.zinc)\n",
    "# b. Plot the lead and zinc data, then use the abline() function to overlay the regression line onto the data.\n",
    "plot(zinc, lead, xlab = \"Zinc\", ylab = \"Lead\")\n",
    "abline(lead.zinc)\n",
    "# c. In a separate plot, plot the residuals of the regression from (a), and again use the abline() function to overlay a horizontal line.\n",
    "plot(zinc, lead.zinc$residuals, xlab = \"Zinc\", ylab = \"Residuals\")\n",
    "abline(h = 0)\n",
    "\n",
    "\n"
   ]
  },
  {
   "attachments": {},
   "cell_type": "markdown",
   "metadata": {},
   "source": [
    "Parts d-h can be answered by hand, using a calculator, or any R functions of your choice.\n"
   ]
  },
  {
   "cell_type": "code",
   "execution_count": 17,
   "metadata": {
    "vscode": {
     "languageId": "r"
    }
   },
   "outputs": [
    {
     "name": "stdout",
     "output_type": "stream",
     "text": [
      "[1] \"y = 0.291x + 16.583\"\n"
     ]
    },
    {
     "data": {
      "text/html": [
       "<strong>1:</strong> 307.918416609057"
      ],
      "text/latex": [
       "\\textbf{1:} 307.918416609057"
      ],
      "text/markdown": [
       "**1:** 307.918416609057"
      ],
      "text/plain": [
       "       1 \n",
       "307.9184 "
      ]
     },
     "metadata": {},
     "output_type": "display_data"
    },
    {
     "name": "stdout",
     "output_type": "stream",
     "text": [
      "[1] \"We would expect the lead concentration to be 307.92 ppm.\"\n"
     ]
    },
    {
     "data": {
      "text/html": [
       "<strong>1:</strong> 29.1335488594317"
      ],
      "text/latex": [
       "\\textbf{1:} 29.1335488594317"
      ],
      "text/markdown": [
       "**1:** 29.1335488594317"
      ],
      "text/plain": [
       "       1 \n",
       "29.13355 "
      ]
     },
     "metadata": {},
     "output_type": "display_data"
    },
    {
     "name": "stdout",
     "output_type": "stream",
     "text": [
      "[1] \"We would expect the lead concentration to be 29.13 ppm higher in location A than in location B.\"\n",
      "[1] \"The R-squared value is 0.912.\"\n",
      "[1] \"This means that 91.2% of the variation in lead concentration can be explained by the variation in zinc concentration.\"\n",
      "[1] \"The linearity, symmetry, and equal variance assumption is met because the residuals are randomly distributed around 0.\"\n",
      "[1] \"However, there is a concern that the residuals are higher at the ends of the graph.\"\n"
     ]
    }
   ],
   "source": [
    "# d. Based on the output from (a), what is the equation of the linear regression line?\n",
    "# Regression is y = 0.291335x + 16.582928\n",
    "A <- round(summary(lead.zinc)$coefficients[2,1], 3)\n",
    "B <- round(summary(lead.zinc)$coefficients[1,1], 3)\n",
    "# these are too many digits, so round to 3\n",
    "print(paste(\"y = \", A, \"x + \", B, sep = \"\"))\n",
    "# e. Imagine we have a new data point. We find out that the zinc concentration at this point is 1,000 ppm. What would we expect the lead concentration at this point to be?\n",
    "predict(lead.zinc, data.frame(zinc = 1000))\n",
    "print(paste(\"We would expect the lead concentration to be \", round(predict(lead.zinc, data.frame(zinc = 1000)), 2), \" ppm.\", sep = \"\"))\n",
    "# f. Imagine two locations (A and B) for which we only observe zinc concentrations. Location A contains 100ppm higher concentration of zinc than location B. How much higher would we expect the lead concentration to be in location A compared to location B?\n",
    "predict(lead.zinc, data.frame(zinc = 100)) - predict(lead.zinc, data.frame(zinc = 0))\n",
    "print(paste(\"We would expect the lead concentration to be \", round(predict(lead.zinc, data.frame(zinc = 100)) - predict(lead.zinc, data.frame(zinc = 0)), 2), \" ppm higher in location A than in location B.\", sep = \"\"))\n",
    "# g. Report the R-squared value and explain in words what it means in context.\n",
    "print(paste(\"The R-squared value is \", round(summary(lead.zinc)$r.squared, 3), \".\", sep = \"\"))\n",
    "print(paste(\"This means that \", round(summary(lead.zinc)$r.squared, 3) * 100, \"% of the variation in lead concentration can be explained by the variation in zinc concentration.\", sep = \"\"))\n",
    "# h. Comment on whether you believe the three main assumptions (linearity, symmetry, equal variance) for linear regression are met for this data. List any concerns you have.\n",
    "print(\"The linearity, symmetry, and equal variance assumption is met because the residuals are randomly distributed around 0.\")\n",
    "print(\"However, there is a concern that the residuals are higher at the ends of the graph.\")\n",
    "\n",
    "\n",
    "\n"
   ]
  },
  {
   "attachments": {},
   "cell_type": "markdown",
   "metadata": {},
   "source": [
    "### Exercise 2\n",
    "Our next data set is what is known as a time series, or data in time. It contains the measurements via satellite imagery of sea ice extent in millions of square kilometers for each month from 1988 to 2011. Please download the “sea_ice” data from the course website and read it into R. If you have your working directory properly set, you can use the line below:\n",
    "\n",
    "\n",
    "`ice <- read.csv(\"sea_ice.csv\", header = TRUE) `\n",
    "\n",
    "Note that currently R does not know what class the Date column is. We need to convert the Date column into class “date” using the following line: \n",
    "\n",
    "`ice$Date <- as.Date(ice$Date, \"%m/%d/%Y\")`"
   ]
  },
  {
   "cell_type": "code",
   "execution_count": 44,
   "metadata": {
    "vscode": {
     "languageId": "r"
    }
   },
   "outputs": [
    {
     "data": {
      "text/plain": [
       "\n",
       "Call:\n",
       "lm(formula = Extent ~ days, data = ice)\n",
       "\n",
       "Residuals:\n",
       "   Min     1Q Median     3Q    Max \n",
       "-9.445 -5.439  1.442  5.599  7.564 \n",
       "\n",
       "Coefficients:\n",
       "             Estimate Std. Error t value Pr(>|t|)    \n",
       "(Intercept) 1.106e+01  6.800e-01  16.260   <2e-16 ***\n",
       "days        1.438e-04  1.411e-04   1.019    0.309    \n",
       "---\n",
       "Signif. codes:  0 '***' 0.001 '**' 0.01 '*' 0.05 '.' 0.1 ' ' 1\n",
       "\n",
       "Residual standard error: 5.654 on 273 degrees of freedom\n",
       "Multiple R-squared:  0.003787,\tAdjusted R-squared:  0.0001377 \n",
       "F-statistic: 1.038 on 1 and 273 DF,  p-value: 0.3093\n"
      ]
     },
     "metadata": {},
     "output_type": "display_data"
    },
    {
     "name": "stdout",
     "output_type": "stream",
     "text": [
      "[1] \"There seems to be a trend in this data, but this trend has a lot of variation.\"\n"
     ]
    },
    {
     "data": {
      "image/png": "[encoded data removed]",
      "text/plain": [
       "plot without title"
      ]
     },
     "metadata": {
      "image/png": {
       "height": 420,
       "width": 420
      }
     },
     "output_type": "display_data"
    },
    {
     "name": "stdout",
     "output_type": "stream",
     "text": [
      "[1] \"We should be concerned about the assumption of equal variance because the residuals are not randomly distributed around 0.\"\n"
     ]
    },
    {
     "data": {
      "image/png": "[encoded data removed]",
      "text/plain": [
       "plot without title"
      ]
     },
     "metadata": {
      "image/png": {
       "height": 420,
       "width": 420
      }
     },
     "output_type": "display_data"
    }
   ],
   "source": [
    "ice <- read.csv(\"sea_ice.csv\", header = TRUE)\n",
    "ice$Date <- as.Date(ice$Date, \"%m/%d/%Y\")\n",
    "# Make this days since the first date\n",
    "ice$days <- as.numeric(ice$Date - ice$Date[1])\n",
    "# a. Produce a summary of a linear model of sea ice extent against time\n",
    "ice.extent <- lm(Extent ~ days, data = ice)\n",
    "summary(ice.extent)\n",
    "# b. Plot the data and overlay the regression line. Does there seem to be a trend in this data?\n",
    "plot(ice$days, ice$Extent, xlab = \"Days\", ylab = \"Extent\")\n",
    "abline(ice.extent)\n",
    "print(\"There seems to be a trend in this data, but this trend has a lot of variation.\")\n",
    "# c. Plot the residuals of the model over time and include a horizontal line. What assumption(s) about the linear model should we be concerned about?\n",
    "plot(ice$days, ice.extent$residuals, xlab = \"Days\", ylab = \"Residuals\")\n",
    "abline(h = 0)\n",
    "print(\"We should be concerned about the assumption of equal variance because the residuals are not randomly distributed around 0.\")\n",
    "\n",
    "\n"
   ]
  },
  {
   "attachments": {},
   "cell_type": "markdown",
   "metadata": {},
   "source": [
    "### Exercise 3\n",
    "One of Adam’s favorite casino games is called “Craps”. In the first round of this game, two fair 6-sided dice are rolled. If the sum of the two dice equal 7 or 11, Adam doubles his money! If a 2, 3, or 12 are rolled, Adam loses all the money he bets L."
   ]
  },
  {
   "cell_type": "code",
   "execution_count": 58,
   "metadata": {
    "vscode": {
     "languageId": "r"
    }
   },
   "outputs": [
    {
     "name": "stdout",
     "output_type": "stream",
     "text": [
      "[1] \"The chance Adam will double his money is 8/36, or 22.2%.\"\n",
      "[1] \"The percentage of time Adam doubled his money is 21.88%.\"\n",
      "[1] \"The percentage of time Adam lost his money is 11.72%.\"\n",
      "[1] \"These two events are disjoint because Adam cannot win and lose money at the same time.\"\n",
      "[1] \"Since they are disjoint, they are not independent.\"\n",
      "[1] \"Calculating P(A|B) = 0.67 and P(A) = 0.22 shows that they are not equal.\"\n"
     ]
    },
    {
     "data": {
      "image/png": "[encoded data removed]",
      "text/plain": [
       "Plot with title \"Histogram of sums\""
      ]
     },
     "metadata": {
      "image/png": {
       "height": 420,
       "width": 420
      }
     },
     "output_type": "display_data"
    }
   ],
   "source": [
    "# One of Adam’s favorite casino games is called “Craps”. In the first round of this game, two fair 6-sided dice are rolled. If the sum of the two dice equal 7 or 11, Adam doubles his money! If a 2, 3, or 12 are rolled, Adam loses all the money he bets L.\n",
    "\n",
    "# a. Based on your lecture notes, what is the chance Adam will double his money in the first round of the game? What is the chance Adam will lose his money in the first round of the game?\n",
    "print(\"The chance Adam will double his money is 8/36, or 22.2%.\")\n",
    "# b. Let’s now approximate the results in (a) by simulation. First, set the seed to 123. Then, create an object that contains 5,000 sample first round Craps outcomes (simulate the sum of 2 dice, 5,000 times). Use the appropriate function to visualize the distribution of these outcomes (hint: are the outcomes discrete or continuous?).\n",
    "set.seed(123)\n",
    "dice = c(1:6)\n",
    "craps = replicate(5000, sample(dice, 2, replace = TRUE))\n",
    "sums = colSums(craps)\n",
    "hist(sums, breaks = 10, xlab = \"Sum of 2 dice\", ylab = \"Frequency\")\n",
    "# c. Imagine these sample results happened in real life for Adam. Using R functions of your choice, calculate the percentage of time Adam doubled his money. Calculate the percentage of time Adam lost his money.\n",
    "print(paste(\"The percentage of time Adam doubled his money is \", round(sum(sums == 7 | sums == 11) / 5000 * 100, 2), \"%.\", sep = \"\"))\n",
    "print(paste(\"The percentage of time Adam lost his money is \", round(sum(sums == 2 | sums == 3 | sums == 12) / 5000 * 100, 2), \"%.\", sep = \"\"))\n",
    "# d. Adam winning money and Adam losing money can both be considered events. Are these two events independent, disjoint, or both? Explain why.\n",
    "print(\"These two events are disjoint because Adam cannot win and lose money at the same time.\")\n",
    "# e. Quickly mathematically verify by calculator if those events are independent using part (a) and what you learned in lecture. Show work.\n",
    "print(\"Since they are disjoint, they are not independent.\")\n",
    "print(paste(\"Calculating P(A|B) = \", round(8/36 / (8/36 + 4/36), 2), \" and P(A) = \", round(8/36, 2), \" shows that they are not equal.\", sep = \"\"))\n",
    "\n"
   ]
  },
  {
   "attachments": {},
   "cell_type": "markdown",
   "metadata": {},
   "source": [
    "## Part II\n",
    "You may choose to type or write your answers electronically or scan your handwritten\n",
    "solutions. Please ensure that you show all steps and explanations to receive full credit,\n",
    "unless otherwise instructed"
   ]
  },
  {
   "attachments": {},
   "cell_type": "markdown",
   "metadata": {},
   "source": [
    "### Exercise 1\n",
    "Assume the grades possible in a history course are A, B, C, or lower than C. The probability that\n",
    "a randomly selected student will get an A in the course is 0.32, the probability that a student will\n",
    "get a B in the course is 0.21, and the probability that a student will get a C in the course is 0.23."
   ]
  },
  {
   "cell_type": "code",
   "execution_count": 59,
   "metadata": {
    "vscode": {
     "languageId": "r"
    }
   },
   "outputs": [
    {
     "name": "stdout",
     "output_type": "stream",
     "text": [
      "[1] \"The probability that a student will get an A OR a B is 0.53.\"\n",
      "[1] \"The probability that a student will get an A OR a B OR a C is 0.76.\"\n",
      "[1] \"The probability that a student will get a grade lower than a C is 0.24.\"\n"
     ]
    }
   ],
   "source": [
    "# a. What is the probability that a student will get an A OR a B?\n",
    "print(paste(\"The probability that a student will get an A OR a B is \", round(0.32 + 0.21, 2), \".\", sep = \"\"))\n",
    "# b. What is the probability that a student will get an A OR a B OR a C?\n",
    "print(paste(\"The probability that a student will get an A OR a B OR a C is \", round(0.32 + 0.21 + 0.23, 2), \".\", sep = \"\"))\n",
    "# c. What is the probability that a student will get a grade lower than a C?\n",
    "print(paste(\"The probability that a student will get a grade lower than a C is \", round(1 - 0.32 - 0.21 - 0.23, 2), \".\", sep = \"\"))\n",
    "\n",
    "\n"
   ]
  },
  {
   "attachments": {},
   "cell_type": "markdown",
   "metadata": {},
   "source": [
    "### Exercise 2\n",
    "De Mere’s Dice Problem"
   ]
  },
  {
   "cell_type": "code",
   "execution_count": 60,
   "metadata": {
    "vscode": {
     "languageId": "r"
    }
   },
   "outputs": [
    {
     "name": "stdout",
     "output_type": "stream",
     "text": [
      "[1] \"The probability of getting at least one six in four rolls of a single die is 0.52.\"\n",
      "[1] \"The probability of getting at least one double six in 24 throws is 0.49.\"\n"
     ]
    }
   ],
   "source": [
    "# a. Let E be the event of getting at least one six in four rolls of a single die. Find P(E).\n",
    "print(paste(\"The probability of getting at least one six in four rolls of a single die is \", round(1 - (5/6)^4, 2), \".\", sep = \"\"))\n",
    "# b. Let F be the event of getting at least one double six in 24 throws. Find P(F).\n",
    "print(paste(\"The probability of getting at least one double six in 24 throws is \", round(1 - (35/36)^24, 2), \".\", sep = \"\"))\n"
   ]
  },
  {
   "attachments": {},
   "cell_type": "markdown",
   "metadata": {},
   "source": [
    "### Exercise 3\n",
    "A patient is displaying some symptoms and received a disease screening test. The test comes\n",
    "back positive 99% of the time for people who have the disease, and comes back negative 97% of\n",
    "the time for people who do not have the disease. The doctor knows that the disease affects 1 in\n",
    "100 people in the country. Suppose the test result for the patient came back positive, what is the\n",
    "probability that the patient actually has the disease?"
   ]
  },
  {
   "cell_type": "code",
   "execution_count": 78,
   "metadata": {
    "vscode": {
     "languageId": "r"
    }
   },
   "outputs": [
    {
     "name": "stdout",
     "output_type": "stream",
     "text": [
      "[1] \"The probability that the patient actually has the disease is 0.25.\"\n"
     ]
    }
   ],
   "source": [
    "# A: patient has disease\n",
    "# B: patient tests positive\n",
    "# P(A) = 0.01\n",
    "# P(B|A) = 0.99\n",
    "# P(B|A') = 0.03\n",
    "# P(A|B) = P(B|A) * P(A) / P(B)\n",
    "# P(B) = P(B|A) * P(A) + P(B|A') * P(A')\n",
    "# P(A|B) = 0.99 * 0.01 / (0.99 * 0.01 + 0.03 * 0.99) = 0.25\n",
    "print(paste(\"The probability that the patient actually has the disease is \", round(0.99 * 0.01 / (0.99 * 0.01 + 0.03 * 0.99), 2), \".\", sep = \"\"))"
   ]
  },
  {
   "attachments": {},
   "cell_type": "markdown",
   "metadata": {},
   "source": [
    "### Exercise 4\n",
    "Suppose you flip a fair coin 100 times and record the results. You get 58 heads and 42 tails."
   ]
  },
  {
   "cell_type": "code",
   "execution_count": 74,
   "metadata": {
    "vscode": {
     "languageId": "r"
    }
   },
   "outputs": [
    {
     "name": "stdout",
     "output_type": "stream",
     "text": [
      "[1] \"The theoretical probability of getting heads is 0.5.\"\n",
      "[1] \"The empirical probability of getting heads is 0.58.\"\n",
      "[1] \"The theoretical probability of getting tails is 0.5.\"\n",
      "[1] \"The empirical probability of getting tails is 0.42.\"\n",
      "[1] \"I would expect to observe a probability of 0.5 because the coin is fair.\"\n",
      "[1] \"The more times the experiment is run, the closer the empirical probability will be to the theoretical probability.\"\n",
      "[1] \"Empirical probabilities are useful when true probabilities are unknown or difficult to calculate. Examples include the probability of a sports team winning a game or the probability of a stock increasing in value.\"\n"
     ]
    }
   ],
   "source": [
    "# Suppose you flip a fair coin 100 times and record the results. You get 58 heads and 42 tails.\n",
    "# a. Find both the theoretical probability and the empirical probability of getting heads.\n",
    "print(paste(\"The theoretical probability of getting heads is \", round(0.5, 2), \".\", sep = \"\"))\n",
    "print(paste(\"The empirical probability of getting heads is \", round(58/100, 2), \".\", sep = \"\"))\n",
    "# b. Find both the theoretical probability and the empirical probability of getting tails.\n",
    "print(paste(\"The theoretical probability of getting tails is \", round(0.5, 2), \".\", sep = \"\"))\n",
    "print(paste(\"The empirical probability of getting tails is \", round(42/100, 2), \".\", sep = \"\"))\n",
    "# c. If you were to flip the coin 1000 times and record the proportion of times that you get heads, what empirical probability would you expect to observe? Why?\n",
    "print(paste(\"I would expect to observe a probability of \", round(0.5, 2), \" because the coin is fair.\", sep = \"\"))\n",
    "print(paste(\"The more times the experiment is run, the closer the empirical probability will be to the theoretical probability.\", sep = \"\"))\n",
    "# d. Give an example of a real-life situation where empirical probabilities would be useful\n",
    "print(\"Empirical probabilities are useful when true probabilities are unknown or difficult to calculate. Examples include the probability of a sports team winning a game or the probability of a stock increasing in value.\")\n",
    "\n",
    "\n"
   ]
  },
  {
   "attachments": {},
   "cell_type": "markdown",
   "metadata": {},
   "source": [
    "### Exercise 5\n",
    "Adam wants to go skiing on the weekend, but only if there are 3 inches or more of new snow.\n",
    "According to the weather report, any amount of new snow between 1 inch and 6 inches is equally\n",
    "likely. The probability density curve for weekend’s new snow depth is shown"
   ]
  },
  {
   "cell_type": "code",
   "execution_count": 76,
   "metadata": {
    "vscode": {
     "languageId": "r"
    }
   },
   "outputs": [
    {
     "name": "stdout",
     "output_type": "stream",
     "text": [
      "[1] \"This is a uniform probability distribution.\"\n",
      "[1] \"The probability density function has a value of 0.2 because the area under the curve must equal 1.\"\n",
      "[1] \"The length of the base of the rectangle is 6 - 1 = 5. Therefore the height = 1/5 = 0.2.\"\n",
      "[1] \"The probability that the new snow depth will be 3 inches or more on the weekend is 0.6.\"\n"
     ]
    },
    {
     "data": {
      "image/png": "[encoded data removed]",
      "text/plain": [
       "Plot with title \"Probability density function\""
      ]
     },
     "metadata": {
      "image/png": {
       "height": 420,
       "width": 420
      }
     },
     "output_type": "display_data"
    }
   ],
   "source": [
    "# a. What is the name of this probability distribution?\n",
    "print(\"This is a uniform probability distribution.\")\n",
    "\n",
    "# b. Why does the probability density function have a value of 0.2?\n",
    "print(\"The probability density function has a value of 0.2 because the area under the curve must equal 1.\")\n",
    "print(\"The length of the base of the rectangle is 6 - 1 = 5. Therefore the height = 1/5 = 0.2.\")\n",
    "\n",
    "# c. Find the probability that the new snow depth will be 3 inches or more on the weekend and shade the appropriate area in the graph.\n",
    "x = seq(1, 6, 0.01)\n",
    "y = rep(0.2, length(x))\n",
    "plot(x, y, type = \"l\", xlab = \"Snow depth (inches)\", ylab = \"Probability density\", main = \"Probability density function\")\n",
    "x1 = seq(3, 6, 0.01)\n",
    "y1 = rep(0.2, length(x1))\n",
    "polygon(c(3, x1, 6), c(0, y1, 0), col = \"blue\")\n",
    "print(paste(\"The probability that the new snow depth will be 3 inches or more on the weekend is \", round(0.2 * (6 - 3), 2), \".\", sep = \"\"))"
   ]
  }
 ],
 "metadata": {
  "kernelspec": {
   "display_name": "R",
   "language": "R",
   "name": "ir"
  },
  "language_info": {
   "codemirror_mode": "r",
   "file_extension": ".r",
   "mimetype": "text/x-r-source",
   "name": "R",
   "pygments_lexer": "r",
   "version": "4.2.3"
  },
  "orig_nbformat": 4
 },
 "nbformat": 4,
 "nbformat_minor": 2
}
