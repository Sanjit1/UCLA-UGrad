{
 "cells": [
  {
   "attachments": {},
   "cell_type": "markdown",
   "metadata": {},
   "source": [
    "## Stats 10 S23\n",
    "Assignment 1 \n",
    "\n",
    "Please submit both parts of the assignment in one single PDF file. You can use any PDF editor software to merge the two parts into one file. Please make sure that the questions are in the correct order and clearly labeled, and that the answers are legible and easy to read. To submit your assignment, upload the PDF file under the designated assignment page on the course website before the deadline specified. Email or hard copy submissions are not accepted."
   ]
  },
  {
   "attachments": {},
   "cell_type": "markdown",
   "metadata": {},
   "source": [
    "### Part 1:\n",
    "**Include both the R commands and their corresponding outputs, results, or answers for all\n",
    "exercise questions in Part I.**"
   ]
  },
  {
   "cell_type": "code",
   "execution_count": 12,
   "metadata": {
    "vscode": {
     "languageId": "r"
    }
   },
   "outputs": [
    {
     "name": "stdout",
     "output_type": "stream",
     "text": [
      "[1] \"1a.\"\n",
      "[1] 75 68 71\n",
      "[1] \"1b.\"\n",
      "[1] \"Sanjit\" \"Dan\"    \"Ella\"  \n",
      "[1] \"1c.\"\n",
      "[1] \"matrix\" \"array\" \n"
     ]
    }
   ],
   "source": [
    "# 1. Vectors:\n",
    "# a. Create a vector named heights that contains the heights, in inches, of yourself and two students near you. Print the contents of this vector.\n",
    "heights <- c(75, 68, 71)\n",
    "print(\"1a.\")\n",
    "print(heights)\n",
    "# b. Create a vector named names that contains the names of yourself and the two students near you. Print the contents of this vector.\n",
    "names <- c(\"Sanjit\", \"Dan\", \"Ella\")\n",
    "print(\"1b.\")\n",
    "print(names)\n",
    "# c. Try typing cbind(heights, names). What did this command do? What class is this new object? Hint: Try the class() function.\n",
    "print(\"1c.\")\n",
    "print(class(cbind(heights, names)))"
   ]
  },
  {
   "cell_type": "code",
   "execution_count": 13,
   "metadata": {
    "vscode": {
     "languageId": "r"
    }
   },
   "outputs": [
    {
     "name": "stdout",
     "output_type": "stream",
     "text": [
      "[1] \"2b.\"\n",
      "  Gender Premie weight Apgar1 Fage Mage Feduc Meduc TotPreg Visits   Marital\n",
      "1   Male     No    124      8   31   25    13    14       1     13   Married\n",
      "2 Female     No    177      8   36   26     9    12       2     11 Unmarried\n",
      "3   Male     No    107      3   30   16    12     8       2     10 Unmarried\n",
      "4 Female     No    144      6   33   37    12    14       2     12 Unmarried\n",
      "5   Male     No    117      9   36   33    10    16       2     19   Married\n",
      "6 Female     No     98      4   31   29    14    16       3     20   Married\n",
      "  Racemom Racedad Hispmom Hispdad Gained     Habit MomPriorCond BirthDef\n",
      "1   White   White NotHisp NotHisp     40 NonSmoker         None     None\n",
      "2   White   White Mexican Mexican     20 NonSmoker         None     None\n",
      "3   White Unknown Mexican Unknown     70 NonSmoker At Least One     None\n",
      "4   White   White NotHisp NotHisp     50 NonSmoker         None     None\n",
      "5   White   Black NotHisp NotHisp     40 NonSmoker At Least One     None\n",
      "6   White   White NotHisp NotHisp     21 NonSmoker         None     None\n",
      "     DelivComp BirthComp\n",
      "1 At Least One      None\n",
      "2 At Least One      None\n",
      "3 At Least One      None\n",
      "4 At Least One      None\n",
      "5         None      None\n",
      "6         None      None\n"
     ]
    }
   ],
   "source": [
    "# 2. Downloading Data:\n",
    "# a. Download the dataset births.csv from the course site and upload it into R Studio. Name the data frame NCbirths.\n",
    "setwd(\"C:/Users/sanji/Documents/School/Classes/Stats 10/Assignment 1\")\n",
    "NCbirths <- read.csv(\"./births.csv\")\n",
    "# b. Demonstrate that you have been successful by typing head(NCbirths) and copying and pasting the output into your word processing document.\n",
    "print(\"2b.\")\n",
    "print(head(NCbirths))"
   ]
  },
  {
   "cell_type": "code",
   "execution_count": 14,
   "metadata": {
    "vscode": {
     "languageId": "r"
    }
   },
   "outputs": [
    {
     "name": "stdout",
     "output_type": "stream",
     "text": [
      "[1] \"3a.\"\n",
      "[1] \"C:/Users/sanji/AppData/Local/R/win-library/4.2/maps\"\n",
      "[1] \"3b.\"\n"
     ]
    },
    {
     "data": {
      "image/png": "[encoded data removed]",
      "text/plain": [
       "plot without title"
      ]
     },
     "metadata": {
      "image/png": {
       "height": 420,
       "width": 420
      }
     },
     "output_type": "display_data"
    }
   ],
   "source": [
    "# 3. Package Loading:\n",
    "# a. Install the maps package. Verify its installation by typing find.package(\"maps\") and include the output in your answer.\n",
    "# install.packages(\"maps\")\n",
    "print(\"3a.\")\n",
    "print(find.package(\"maps\"))\n",
    "# b. Type library(maps) to load up the package. Type map(\"state\") and include the plot output in your answer.\n",
    "library(maps)\n",
    "print(\"3b.\")\n",
    "map(\"state\")"
   ]
  },
  {
   "attachments": {},
   "cell_type": "markdown",
   "metadata": {},
   "source": [
    "Use the births data set for questions 4-11"
   ]
  },
  {
   "cell_type": "code",
   "execution_count": 15,
   "metadata": {
    "vscode": {
     "languageId": "r"
    }
   },
   "outputs": [
    {
     "name": "stdout",
     "output_type": "stream",
     "text": [
      "[1] \"4b.\"\n",
      " [1] 124 177 107 144 117  98 147 138 104 123\n",
      "[1] \"Given that the weights are for babies, the weights seem to be in ounces.\"\n",
      "[1] \"4d.\"\n",
      " [1]  7.7500 11.0625  6.6875  9.0000  7.3125  6.1250  9.1875  8.6250  6.5000\n",
      "[10]  7.6875  9.5625  8.0625  7.4375  6.7500  6.6250  7.8125  7.1875  8.0000\n",
      "[19]  8.2500  5.1875\n"
     ]
    }
   ],
   "source": [
    "# 4. Perform vector operations:\n",
    "# a. Extract the weight variable as a vector from the data frame\n",
    "weight <- NCbirths$weight\n",
    "# b. What units do you think the weights are in?\n",
    "print(\"4b.\")\n",
    "print(weight[1:10])\n",
    "# print that the weights are in ounces\n",
    "print(\"Given that the weights are for babies, the weights seem to be in ounces.\")\n",
    "# c. Create a new vector named weights_in_pounds which are the weights of the babies in pounds. You can look up conversion factors on the internet.\n",
    "weight_in_pounds <- weight/16\n",
    "# d. Demonstrate your success by typing weights_in_pounds[1:20] and including the output in your word processing document.\n",
    "print(\"4d.\")\n",
    "print(weight_in_pounds[1:20])\n"
   ]
  },
  {
   "cell_type": "code",
   "execution_count": 16,
   "metadata": {
    "vscode": {
     "languageId": "r"
    }
   },
   "outputs": [
    {
     "name": "stdout",
     "output_type": "stream",
     "text": [
      "[1] \"5.\"\n",
      "[1] 7.2532\n",
      "[1] \"5a.\"\n",
      "[1] \"9.39 % of mother in the sample smoke.\"\n",
      "[1] \"5b.\"\n",
      "[1] \"The percentage of mothers who smoke is 11.61 percent off from the CDC's report.\"\n"
     ]
    }
   ],
   "source": [
    "# 5. What is the mean weight of the babies in pounds?\n",
    "print(\"5.\")\n",
    "print(mean(weight_in_pounds))\n",
    "# a. What percentage of the mothers in the sample smoke? Hint: use the tally function with the format argument. Use the help screen for guidance.\n",
    "print(\"5a.\")\n",
    "library(mosaic)\n",
    "x = tally(NCbirths$Habit == \"Smoker\", format = \"percent\")\n",
    "print(paste(round(x[1], 2), \"% of mother in the sample smoke.\"))\n",
    "# According to the Centers for Disease Control, approximately 21% of adult Americans are smokers. How far off is the percentage you found in 2 from the CDC’s report?\n",
    "print(\"5b.\")\n",
    "print(paste(\"The percentage of mothers who smoke is\", round(abs(x[1] - 21), 2), \"percent off from the CDC's report.\"))\n"
   ]
  },
  {
   "cell_type": "code",
   "execution_count": 17,
   "metadata": {
    "vscode": {
     "languageId": "r"
    }
   },
   "outputs": [
    {
     "name": "stdout",
     "output_type": "stream",
     "text": [
      "[1] \"6.\"\n",
      "[1] \"The histogram with 20 bins seems to give the best visualization because it shows the most detail without being too cluttered.\"\n"
     ]
    },
    {
     "data": {
      "image/png": "[encoded data removed]",
      "text/plain": [
       "Plot with title \"Histogram with 3 bins\""
      ]
     },
     "metadata": {
      "image/png": {
       "height": 420,
       "width": 420
      }
     },
     "output_type": "display_data"
    },
    {
     "data": {
      "image/png": "[encoded data removed]",
      "text/plain": [
       "Plot with title \"Histogram with 20 bins\""
      ]
     },
     "metadata": {
      "image/png": {
       "height": 420,
       "width": 420
      }
     },
     "output_type": "display_data"
    },
    {
     "data": {
      "image/png": "[encoded data removed]",
      "text/plain": [
       "Plot with title \"Histogram with 100 bins\""
      ]
     },
     "metadata": {
      "image/png": {
       "height": 420,
       "width": 420
      }
     },
     "output_type": "display_data"
    }
   ],
   "source": [
    "# 6. Produce three different histograms of the weights in pounds. Use 3 bins, 20 bins, and 100 bins. Which histogram seems to give the best visualization, and why?\n",
    "print(\"6.\")\n",
    "print(\"The histogram with 20 bins seems to give the best visualization because it shows the most detail without being too cluttered.\")\n",
    "hist(weight_in_pounds, breaks = 3, main = \"Histogram with 3 bins\")\n",
    "hist(weight_in_pounds, breaks = 20, main = \"Histogram with 20 bins\")\n",
    "hist(weight_in_pounds, breaks = 100, main = \"Histogram with 100 bins\")"
   ]
  },
  {
   "cell_type": "code",
   "execution_count": 18,
   "metadata": {
    "vscode": {
     "languageId": "r"
    }
   },
   "outputs": [
    {
     "name": "stdout",
     "output_type": "stream",
     "text": [
      "[1] \"7.\"\n",
      "[1] \"Based on the boxplot, fathers tend to be older than mothers.\"\n"
     ]
    },
    {
     "data": {
      "image/png": "[encoded data removed]",
      "text/plain": [
       "Plot with title \"Boxplot of Mother's and Father's Ages\""
      ]
     },
     "metadata": {
      "image/png": {
       "height": 420,
       "width": 420
      }
     },
     "output_type": "display_data"
    }
   ],
   "source": [
    "# 7. We can use the syntax boxplot(vector1, vector2) to make a side by side box plot. Create a side by side boxplot of the mother’s ages and the father’s ages. Which gender tends to be older?\n",
    "print(\"7.\")\n",
    "boxplot(NCbirths$Mage, NCbirths$Fage, main = \"Boxplot of Mother's and Father's Ages\")\n",
    "print(\"Based on the boxplot, fathers tend to be older than mothers.\")"
   ]
  },
  {
   "cell_type": "code",
   "execution_count": 19,
   "metadata": {
    "vscode": {
     "languageId": "r"
    }
   },
   "outputs": [
    {
     "name": "stdout",
     "output_type": "stream",
     "text": [
      "[1] \"8.\"\n",
      "[1] \"Based on the graph, it seems that babies from smoking mothers tend to be lighter than babies from non-smoking mothers.\"\n"
     ]
    },
    {
     "data": {
      "image/png": "[encoded data removed]",
      "text/plain": [
       "plot without title"
      ]
     },
     "metadata": {
      "image/png": {
       "height": 420,
       "width": 420
      }
     },
     "output_type": "display_data"
    }
   ],
   "source": [
    "# 8. Try typing histogram(~ weight | Habit, data = NCbirths, layout = c(1, 2)). Describe what this code does. Based on the graph, do you see any major differences between baby weights from smoking moms vs. non-smoking moms? \n",
    "print(\"8.\")\n",
    "print(\"Based on the graph, it seems that babies from smoking mothers tend to be lighter than babies from non-smoking mothers.\")\n",
    "histogram(~ weight | Habit, data = NCbirths, layout = c(1, 2))\n",
    "\n"
   ]
  },
  {
   "cell_type": "code",
   "execution_count": 20,
   "metadata": {
    "vscode": {
     "languageId": "r"
    }
   },
   "outputs": [
    {
     "name": "stdout",
     "output_type": "stream",
     "text": [
      "[1] \"9.\"\n"
     ]
    },
    {
     "data": {
      "image/png": "[encoded data removed]",
      "text/plain": [
       "plot without title"
      ]
     },
     "metadata": {
      "image/png": {
       "height": 420,
       "width": 420
      }
     },
     "output_type": "display_data"
    }
   ],
   "source": [
    "# 9. Produce a dot plot of the weights in pounds.\n",
    "print(\"9.\")\n",
    "dotPlot(weight_in_pounds, main = \"Dotplot of Weights in Pounds\")"
   ]
  },
  {
   "cell_type": "code",
   "execution_count": 21,
   "metadata": {
    "vscode": {
     "languageId": "r"
    }
   },
   "outputs": [
    {
     "name": "stdout",
     "output_type": "stream",
     "text": [
      "[1] \"10.\"\n",
      "[1] \"I think that the baby's health will be associated with the mother's smoking because smoking is known to be bad for the baby's health.\"\n",
      "           \n",
      "              No  Yes\n",
      "  NonSmoker 1646  159\n",
      "  Smoker     165   22\n",
      "[1] \"Based on the two-way table, there is no formal evidence that the baby's health is associated with the mother's smoking, because we are not inferring any p values from the table.\"\n"
     ]
    }
   ],
   "source": [
    "# 10. Consider the other categorical variables in this data. Of those that record the health of the baby, which do you think will be associated with the mother’s smoking and why? Make a two-way Summary Table to check your hypothesis. Do you have evidence that this variable associated with smoking? Why?\n",
    "print(\"10.\")\n",
    "print(\"I think that the baby's health will be associated with the mother's smoking because smoking is known to be bad for the baby's health.\")\n",
    "# two-way summary table\n",
    "x = table(NCbirths$Habit, NCbirths$Premie)\n",
    "print(x)\n",
    "print(\"Based on the two-way table, there is no formal evidence that the baby's health is associated with the mother's smoking, because we are not inferring any p values from the table.\")\n"
   ]
  },
  {
   "cell_type": "code",
   "execution_count": 22,
   "metadata": {
    "vscode": {
     "languageId": "r"
    }
   },
   "outputs": [
    {
     "name": "stdout",
     "output_type": "stream",
     "text": [
      "[1] \"11.\"\n"
     ]
    },
    {
     "data": {
      "image/png": "[encoded data removed]",
      "text/plain": [
       "Plot with title \"Scatterplot of Mother's Age vs. Baby's Weight\""
      ]
     },
     "metadata": {
      "image/png": {
       "height": 420,
       "width": 420
      }
     },
     "output_type": "display_data"
    }
   ],
   "source": [
    "# 11. Produce a nicely formatted scatter plot of the weight of the baby vs. the mother’s age.\n",
    "print(\"11.\")\n",
    "plot(NCbirths$Mage, weight_in_pounds, main = \"Scatterplot of Mother's Age vs. Baby's Weight\", xlab = \"Mother's Age\", ylab = \"Baby's Weight\")"
   ]
  },
  {
   "attachments": {},
   "cell_type": "markdown",
   "metadata": {},
   "source": [
    "## Part II\n",
    "You may choose to type or write your answers electronically or scan your handwritten solutions. Please ensure that you show all steps and explanations to receive full credit, unless otherwise instructed."
   ]
  },
  {
   "attachments": {},
   "cell_type": "markdown",
   "metadata": {},
   "source": [
    "1. A data set on Shark Attacks Worldwide posted on StatCrunch records data on all shark attacks in recorded history including attacks before 1800. The data set can be viewed here: https://www.statcrunch.com/app/index.html?dataid=2188687\n",
    "\n",
    "   1. How many variables are contained in the data? <br>\n",
    "      **Answer**: 15\n",
    "\n",
    "   2. Which of the following questions could not be answered using this data set? Briefly explain.\n",
    "\n",
    "      1. In what month do most shark attacks occur?\n",
    "\n",
    "      2. Are shark attacks more likely to occur in warm temperature or cooler temperatures?\n",
    "\n",
    "      3. Attacks by which species of shark are more likely to result in a fatality?\n",
    "\n",
    "      4. What country has the most shark attacks per year? <br\n",
    "         \n",
    "         **Answer**: 2(ii) cannot be answered, since the dataset does not indicate the temperature of where the attack occurred.\n",
    "   3. A researcher wants to understand the age of the people in the data set and proposed some questions of interest: Are the reported cases are mostly younger people or older people? How is the age distributed? How would you help the researcher answer these questions? What statistical tools (e.g., graphs, measures) will you use? (You only need to describe your approach) <br>\n",
    "   **Answer**: To visualize the distribution, one could use a boxplot and a histogram to visualize how the data is spread. One could also use measures of central tendency like the mean and median to see if younger people or older people are reported cases, and use measures of variability like the range and standard deviation to see how the data is spread.\n",
    "   "
   ]
  },
  {
   "attachments": {},
   "cell_type": "markdown",
   "metadata": {},
   "source": [
    "2. The scores of a quiz are displayed in the graph below.\n",
    "   1. Describe the shape of the distribution. <br>\n",
    "      **Answer**: The distribution is skewed to the left, with the mode being 100%. The data is unimmodal and tails off to a minimum of 50%.\n",
    "   2. Would the mean score be greater than, less than, or about the same as the median score? Explain: <br>\n",
    "      **Answer**: The mean would be less than the median, since the data is severely skewed to the left.\n",
    "   3. What measures would you use to report the center and spread. Explain. <br>\n",
    "      **Answer**: I would use the mean and standard deviation to report the center and spread, since it seems like the data does not have many outliers, and the median may over represent the higher scores."
   ]
  },
  {
   "attachments": {},
   "cell_type": "markdown",
   "metadata": {},
   "source": [
    "3. The distribution of test scores in a class is unimodal and symmetric with a mean of 80 pts and a standard deviation of 7pts. Based on the information, Adam estimated that his score is higher than approximately 97.5% of the students in class. What score did Adam receive? Explain: <br>\n",
    "**Answer**: For a unimodal and symmetric dataset, z score for 97.5% = 1.96, so adams score is 80 + 1.96(7) = 93.72. Therefore Adam received a score of 93.72."
   ]
  },
  {
   "attachments": {},
   "cell_type": "markdown",
   "metadata": {},
   "source": [
    "4. Assume that both men and women’s heights have symmetric and unimodal distributions. Women’s distribution has a mean of 64 inches and a standard deviation of 2.5 inches. Men’s distribution has a mean of 69 inches and a standard deviation of 3 inches.\n",
    "   1. What women's height corresponds to a z-score of -1.5? <br>\n",
    "    **Answer**: (height - 64)/2.5 = -1.5, so height = 64 - 1.5(2.5) = 60.25 inches. \n",
    "   2. Professional basketball player Evelyn Akhator is 75 inches tall and plays in the WNBA (women’s league). Professional basketball player Draymond Green is 79 inches tall and plays in the NBA (men’s league). Compared to their own peers, who is taller?  <br>\n",
    "    **Answer**: Evelyn Akhator's z-score = (75 - 64)/2.5 = 4.4, and Draymond Green's z-score = (79 - 69)/3 = 3.33. Therefore, Evelyn Akhator is relatively taller than Draymond Green."
   ]
  },
  {
   "attachments": {},
   "cell_type": "markdown",
   "metadata": {},
   "source": [
    "5. The top ten movies based on Marvel comic book characters for the U.S. box office as of fall 2017 are shown in the following table, with domestic gross rounded to the nearest hundred million. (Source: ultimatemovieranking.com)\n",
    "   1. Report the five-number summary of the domestic gross income. <br>\n",
    "        **Answer**: 5-number summary consists of the minimum, Q1, median, Q3, and maximum.\n",
    "        The minimum is 363, the Q1 = 389, Median = (434 + 423)/2 = 428.5, Q3 = 520 and maximum = 677.  \n",
    "   2. Interpret the five-number summary in context, i.e., what information can you obtain about the distribution of the domestic gross income? <br>\n",
    "        **Answer**: The median is closer to the Q1 than the Q3, which suggests that the distribution is skewed to the right. Which means that average gross income is higher than the median gross income. The minimum and maximum are within the range of the [Q1 - 1.5*IQR, Q3 + 1.5\\*IQR], which suggests that there are no outliers.\n"
   ]
  },
  {
   "attachments": {},
   "cell_type": "markdown",
   "metadata": {},
   "source": [
    "6. The data set below show the number of central public libraries in 32 states.\n",
    "\n",
    "\n",
    "The five number summary is given as:\n",
    "| Minimum | Q1 | Median | Q3 | Maximum |\n",
    "|---------|----|--------|----|---------|\n",
    "|    1    | 62 |   91   | 218|   756   |\n",
    "\n",
    "Sketch a boxplot using the five-number summary above and the data below.\n",
    "Mark the values of the quartiles, the lower whisker, the upper whisker, and any potential\n",
    "outliers in the boxplot. Explain how you determined the length of the whiskers.\n",
    "(The scale of the plot does not need to be accurate)\n",
    "\n",
    "\n",
    "![boxplot](https://i.imgur.com/0ewlGfL.png)\n",
    "\n",
    "\n",
    "I determined the whiskers by taking the Q1 and Q3 and subtracting and adding 1.5\\*IQR to them, respectively. The lower whisker is 1, since that is the lowest value and is'nt an outlier. The upper whisker is 368, since that is the highest value that is not an outlier. I then took the minimum and maximum and compared them to the lower and upper whiskers. If the minimum or maximum was less than the lower whisker or greater than the upper whisker, respectively, then I marked it as an outlier. \n"
   ]
  }
 ],
 "metadata": {
  "kernelspec": {
   "display_name": "R",
   "language": "R",
   "name": "ir"
  },
  "language_info": {
   "codemirror_mode": "r",
   "file_extension": ".r",
   "mimetype": "text/x-r-source",
   "name": "R",
   "pygments_lexer": "r",
   "version": "4.2.3"
  },
  "orig_nbformat": 4
 },
 "nbformat": 4,
 "nbformat_minor": 2
}
